{
 "cells": [
  {
   "cell_type": "markdown",
   "metadata": {},
   "source": [
    "# Setup"
   ]
  },
  {
   "cell_type": "code",
   "execution_count": 1,
   "metadata": {},
   "outputs": [],
   "source": [
    "import numpy as np"
   ]
  },
  {
   "cell_type": "markdown",
   "metadata": {},
   "source": [
    "# Helper Functions\n",
    "- Softmax"
   ]
  },
  {
   "cell_type": "code",
   "execution_count": 2,
   "metadata": {},
   "outputs": [],
   "source": [
    "def softmax(x):\n",
    "    s = np.exp(x - np.max(x))\n",
    "    return s / s.sum(axis=0)"
   ]
  },
  {
   "cell_type": "markdown",
   "metadata": {},
   "source": [
    "- Smooth: make the loss curve smoother"
   ]
  },
  {
   "cell_type": "code",
   "execution_count": 3,
   "metadata": {},
   "outputs": [],
   "source": [
    "def smooth(loss, cur_loss):\n",
    "    return loss * 0.999 + cur_loss * 0.001"
   ]
  },
  {
   "cell_type": "markdown",
   "metadata": {},
   "source": [
    "- Initial Loss: to smooth the loss"
   ]
  },
  {
   "cell_type": "code",
   "execution_count": 4,
   "metadata": {},
   "outputs": [],
   "source": [
    "def get_initial_loss(vocab_size, seq_length):\n",
    "    return -np.log(1.0/vocab_size) * seq_length"
   ]
  },
  {
   "cell_type": "markdown",
   "metadata": {},
   "source": [
    "- Print Sample: print the generated sample names"
   ]
  },
  {
   "cell_type": "code",
   "execution_count": 5,
   "metadata": {},
   "outputs": [],
   "source": [
    "def print_sample(sample_indices, idx_to_char):\n",
    "    \n",
    "    txt = ''.join(idx_to_char[idx] for idx in sample_indices)\n",
    "    res = txt[0].upper() + txt[1:]  # capitalize the first character\n",
    "    print('%s' % res, end='')"
   ]
  },
  {
   "cell_type": "markdown",
   "metadata": {},
   "source": [
    "# Data\n",
    "## Overview"
   ]
  },
  {
   "cell_type": "code",
   "execution_count": 6,
   "metadata": {},
   "outputs": [
    {
     "name": "stdout",
     "output_type": "stream",
     "text": [
      "There are 19909 total characters and 27 unique characters in the data\n"
     ]
    }
   ],
   "source": [
    "data = open('dinos.txt', 'r').read().lower()\n",
    "chars = sorted(list(set(data)))\n",
    "\n",
    "data_size, vocab_size = len(data), len(chars)\n",
    "print('There are %d total characters and %d unique characters in the data' % (data_size, vocab_size))"
   ]
  },
  {
   "cell_type": "code",
   "execution_count": 7,
   "metadata": {},
   "outputs": [
    {
     "name": "stdout",
     "output_type": "stream",
     "text": [
      "['\\n', 'a', 'b', 'c', 'd', 'e', 'f', 'g', 'h', 'i', 'j', 'k', 'l', 'm', 'n', 'o', 'p', 'q', 'r', 's', 't', 'u', 'v', 'w', 'x', 'y', 'z']\n"
     ]
    }
   ],
   "source": [
    "print(chars)"
   ]
  },
  {
   "cell_type": "markdown",
   "metadata": {},
   "source": [
    "## Preprocessing"
   ]
  },
  {
   "cell_type": "code",
   "execution_count": 8,
   "metadata": {},
   "outputs": [],
   "source": [
    "# hashtable mapping characters to the indices\n",
    "char_to_idx = {char:i for i,char in enumerate(chars)}\n",
    "\n",
    "# hashtable mapping indices to characters\n",
    "idx_to_char = {i:char for i, char in enumerate(chars)}"
   ]
  },
  {
   "cell_type": "markdown",
   "metadata": {},
   "source": [
    "# RNN Cell\n",
    "- Forward Propagation"
   ]
  },
  {
   "cell_type": "code",
   "execution_count": 9,
   "metadata": {},
   "outputs": [],
   "source": [
    "def rnn_forward_step(params, a_prev, x):\n",
    "    \n",
    "    Waa, Wax, Wya, ba, by = params['Waa'], params['Wax'], params['Wya'], params['ba'], params['by']\n",
    "    a_next = np.tanh(np.dot(Waa, a_prev) + np.dot(Wax, x) + ba)\n",
    "    y_hat = softmax(np.dot(Wya, a_next) + by)\n",
    "    \n",
    "    return a_next, y_hat"
   ]
  },
  {
   "cell_type": "code",
   "execution_count": 10,
   "metadata": {},
   "outputs": [],
   "source": [
    "def rnn_forward(X, Y, a0, params, n_x=vocab_size):\n",
    "    \n",
    "    # Initialize\n",
    "    x, a, y_hat = {}, {}, {}\n",
    "    a[-1] = np.copy(a0)\n",
    "    \n",
    "    loss = 0\n",
    "    \n",
    "    # Loop\n",
    "    for t in range(len(X)):\n",
    "        \n",
    "        ## x[t]: one-hot vector representation of the t-th character in X\n",
    "        x[t] = np.zeros((n_x, 1))\n",
    "        if X[t] != None:\n",
    "            x[t][X[t]] = 1\n",
    "        \n",
    "        ## run one forward step of the RNN\n",
    "        a[t], y_hat[t] = rnn_forward_step(params, a[t-1], x[t])\n",
    "        \n",
    "        ## update the loss by substracting the cross-entropy term of this time-step\n",
    "        loss -= np.log(y_hat[t][Y[t], 0])\n",
    "    \n",
    "    cache = (y_hat, a, x)\n",
    "    \n",
    "    return loss, cache"
   ]
  },
  {
   "cell_type": "markdown",
   "metadata": {},
   "source": [
    "- Backward Propagation"
   ]
  },
  {
   "cell_type": "code",
   "execution_count": 11,
   "metadata": {},
   "outputs": [],
   "source": [
    "def rnn_backward_step(dy, grads, params, x, a, a_prev):\n",
    "    \n",
    "    grads['dWya'] += np.dot(dy, a.T)\n",
    "    grads['dby'] += dy\n",
    "    da = np.dot(params['Wya'].T, dy) + grads['da_next']\n",
    "    dz = da * (1 - a * a)\n",
    "    grads['dWaa'] += np.dot(dz, a_prev.T)\n",
    "    grads['dWax'] += np.dot(dz, x.T)\n",
    "    grads['dba'] += dz\n",
    "    grads['da_next'] = np.dot(params['Waa'].T, dz)\n",
    "    \n",
    "    return grads"
   ]
  },
  {
   "cell_type": "code",
   "execution_count": 12,
   "metadata": {},
   "outputs": [],
   "source": [
    "def rnn_backward(X, Y, params, cache):\n",
    "    \n",
    "    # Retrieve from cache and params\n",
    "    (y_hat, a, x) = cache\n",
    "    Waa, Wax, Wya, ba, by = params['Waa'], params['Wax'], params['Wya'], params['ba'], params['by']\n",
    "    \n",
    "    # Initialize\n",
    "    grads = {}\n",
    "    grads['dWaa'], grads['dWax'], grads['dWya'] = np.zeros_like(Waa), np.zeros_like(Wax), np.zeros_like(Wya)\n",
    "    grads['dba'], grads['dby'] = np.zeros_like(ba), np.zeros_like(by)\n",
    "    grads['da_next'] = np.zeros_like(a[0])\n",
    "    \n",
    "    # Loop\n",
    "    for t in reversed(range(len(X))):\n",
    "        \n",
    "        ## dy\n",
    "        dy = np.copy(y_hat[t])\n",
    "        dy[Y[t]] -= 1\n",
    "        \n",
    "        ## run one backward step of the RNN\n",
    "        grads = rnn_backward_step(dy, grads, params, x[t], a[t], a[t-1])\n",
    "    \n",
    "    return grads, a"
   ]
  },
  {
   "cell_type": "markdown",
   "metadata": {},
   "source": [
    "# Models\n",
    "- Initialization"
   ]
  },
  {
   "cell_type": "code",
   "execution_count": 13,
   "metadata": {},
   "outputs": [],
   "source": [
    "def initialize_params(n_a, n_x, n_y):\n",
    "    \n",
    "    np.random.seed(1)\n",
    "    \n",
    "    Wax = np.random.randn(n_a, n_x) * 0.01\n",
    "    Waa = np.random.randn(n_a, n_a) * 0.01\n",
    "    Wya = np.random.randn(n_y, n_a) * 0.01\n",
    "    ba = np.zeros((n_a, 1))\n",
    "    by = np.zeros((n_y, 1))\n",
    "    \n",
    "    params = {'Wax': Wax, 'Waa': Waa, 'Wya': Wya, 'ba': ba,'by': by}\n",
    "    \n",
    "    return params"
   ]
  },
  {
   "cell_type": "markdown",
   "metadata": {},
   "source": [
    "- Gradient Clipping"
   ]
  },
  {
   "cell_type": "code",
   "execution_count": 14,
   "metadata": {},
   "outputs": [],
   "source": [
    "def grads_clipping(grads, max_value):\n",
    "    \n",
    "    dWaa, dWax, dWya, dba, dby = grads['dWaa'], grads['dWax'], grads['dWya'], grads['dba'], grads['dby']\n",
    "   \n",
    "    for gradient in [dWaa, dWax, dWya, dba, dby]:\n",
    "        np.clip(gradient, -max_value, max_value, out=gradient)\n",
    "    \n",
    "    grads = {'dWaa': dWaa, 'dWax': dWax, 'dWya': dWya, 'dba': dba, 'dby': dby}\n",
    "    \n",
    "    return grads"
   ]
  },
  {
   "cell_type": "markdown",
   "metadata": {},
   "source": [
    "- Update Parameters"
   ]
  },
  {
   "cell_type": "code",
   "execution_count": 15,
   "metadata": {},
   "outputs": [],
   "source": [
    "def update_GD(params, grads, lr):\n",
    "    \n",
    "    for param in ('Waa', 'Wax', 'Wya', 'ba', 'by'):\n",
    "        params[param] -= lr * grads['d' + param]\n",
    "        \n",
    "    return params"
   ]
  },
  {
   "cell_type": "markdown",
   "metadata": {},
   "source": [
    "- Sampling: generate new sequences after training"
   ]
  },
  {
   "cell_type": "code",
   "execution_count": 16,
   "metadata": {},
   "outputs": [],
   "source": [
    "def sampling(params, char_to_idx):\n",
    "    \n",
    "    # Retrieve relevant shapes\n",
    "    n_a, n_x = params['Wax'].shape[0], params['Wax'].shape[1]\n",
    "    \n",
    "    # Initialize\n",
    "    x = np.zeros((n_x, 1))\n",
    "    a_prev = np.zeros((n_a, 1))\n",
    "    \n",
    "    res = []  ## result list of indices of the characters to generate\n",
    "    \n",
    "    idx = -1\n",
    "    counter = 0\n",
    "    idx_newline = char_to_idx['\\n']\n",
    "    \n",
    "    # Loop\n",
    "    while idx != idx_newline and counter < 50:\n",
    "        \n",
    "        ## forward propagation\n",
    "        a_prev, y_hat = rnn_forward_step(params, a_prev, x)\n",
    "        \n",
    "        ## sample the index of a character from probability distribution y_hat \n",
    "        idx = np.random.choice(range(n_x), p=y_hat.ravel())\n",
    "        \n",
    "        ## append the index to result\n",
    "        res.append(idx)\n",
    "        \n",
    "        # overwrite the input with one-hot vector corresponding to the sampled index\n",
    "        x = np.zeros((n_x, 1))\n",
    "        x[idx] = 1\n",
    "                \n",
    "        counter += 1\n",
    "        \n",
    "    if counter == 50:\n",
    "        res.append(idx_newline)\n",
    "    \n",
    "    return res"
   ]
  },
  {
   "cell_type": "markdown",
   "metadata": {},
   "source": [
    "- Optimize: implement one step of Gradient Descent optimization"
   ]
  },
  {
   "cell_type": "code",
   "execution_count": 17,
   "metadata": {},
   "outputs": [],
   "source": [
    "def optimize(X, Y, vocab_size, a_prev, params, max_value=5, lr=0.01):\n",
    "    \n",
    "    # Forward propagation\n",
    "    loss, cache = rnn_forward(X, Y, a_prev, params, n_x=vocab_size)\n",
    "    \n",
    "    # Backward propagation\n",
    "    grads, a = rnn_backward(X, Y, params, cache)\n",
    "    \n",
    "    # Gradient clipping\n",
    "    grads = grads_clipping(grads, max_value)\n",
    "    \n",
    "    # Update parameters\n",
    "    params = update_GD(params, grads, lr)\n",
    "    \n",
    "    return loss, grads, a[-1]"
   ]
  },
  {
   "cell_type": "markdown",
   "metadata": {},
   "source": [
    "# Training"
   ]
  },
  {
   "cell_type": "code",
   "execution_count": 18,
   "metadata": {},
   "outputs": [],
   "source": [
    "def language_model(data, idx_to_char, char_to_idx, epochs=35000, n_a=50, n_samples=7, vocab_size=vocab_size):\n",
    "    \n",
    "    # Retrieve relevant shapes\n",
    "    n_x, n_y = vocab_size, vocab_size\n",
    "    \n",
    "    # Initialize parameters\n",
    "    params = initialize_params(n_a, n_x, n_y)\n",
    "    a_prev = np.zeros((n_a, 1))\n",
    "    \n",
    "    # Initialize loss: to smooth the loss\n",
    "    loss = get_initial_loss(vocab_size, n_samples)\n",
    "    \n",
    "    # Generate training examples: a list of all dinosaur names\n",
    "    examples = data.split('\\n')\n",
    "    \n",
    "    # Shuffle the training examples\n",
    "    np.random.seed(0)\n",
    "    np.random.shuffle(examples)\n",
    "    \n",
    "    # Loop for SGD\n",
    "    for j in range(epochs):\n",
    "        \n",
    "        idx = j % len(examples)\n",
    "        \n",
    "        # generate input X: prepend None to initialize x0 = 0\n",
    "        single_example = examples[idx]\n",
    "        X = [None] + [char_to_idx[char] for char in single_example]\n",
    "        \n",
    "        # generate label Y: append '\\n'\n",
    "        idx_newline = char_to_idx['\\n']\n",
    "        Y = X[1:] + [idx_newline]\n",
    "        \n",
    "        # optimization step\n",
    "        curr_loss, grads, a_prev = optimize(X, Y, vocab_size, a_prev, params)\n",
    "        \n",
    "        # accelerate training: use a latency trick to keep the loss smooth\n",
    "        loss = smooth(loss, curr_loss)\n",
    "        \n",
    "        # every 2000 epochs, generate samples tp check if the model is learning prorperly\n",
    "        if j % 2000 == 0:\n",
    "            \n",
    "            print('Iteration: %d | Loss: %f' % (j, loss) + '\\n')\n",
    "            \n",
    "            for _ in range(n_samples):\n",
    "                sampled_indices = sampling(params, char_to_idx)\n",
    "                print_sample(sampled_indices, idx_to_char)\n",
    "            \n",
    "            print('\\n')\n",
    "\n",
    "    return params"
   ]
  },
  {
   "cell_type": "code",
   "execution_count": 19,
   "metadata": {},
   "outputs": [
    {
     "name": "stdout",
     "output_type": "stream",
     "text": [
      "Iteration: 0 | Loss: 23.087336\n",
      "\n",
      "Co\n",
      "Eyhqgyshubjerbjgmis\n",
      "Qfguyhvbqtdkxb\n",
      "Okuxhjmozrjgycsxqkeisqywvxgijorg\n",
      "Jhywwqinubuavuapmdctozzzcyflteoebci\n",
      "Kqjbagdzduoomziuojypckurxgtloyzwiwqk\n",
      "Tmutuhunlr\n",
      "\n",
      "\n",
      "Iteration: 2000 | Loss: 27.336073\n",
      "\n",
      "Alydibenus\n",
      "Atokycrherosaurus\n",
      "Icrostovod\n",
      "Gtrycathotisaurus\n",
      "Motosaurus\n",
      "Hqmacisgurus\n",
      "Rwerosiulos\n",
      "\n",
      "\n",
      "Iteration: 4000 | Loss: 25.118910\n",
      "\n",
      "Lelocorasaurus\n",
      "Eutorytops\n",
      "Kytacronosaurus\n",
      "Pagchiisyus\n",
      "Ameorkusaurus\n",
      "Aurosaurus\n",
      "Lithysaurus\n",
      "\n",
      "\n",
      "Iteration: 6000 | Loss: 23.797897\n",
      "\n",
      "Prarosaurus\n",
      "Alaurusaurus\n",
      "Tyakeelosaurus\n",
      "Yraenosaurus\n",
      "Thorolortatra\n",
      "Rostenon\n",
      "Leroptows\n",
      "\n",
      "\n",
      "Iteration: 8000 | Loss: 23.276764\n",
      "\n",
      "Bramutos\n",
      "Lolaimasaura\n",
      "Erosmusus\n",
      "Nazerosaurus\n",
      "Crleuycianosaurus\n",
      "Akbeopoptyrus\n",
      "Taahiratops\n",
      "\n",
      "\n",
      "Iteration: 10000 | Loss: 23.055204\n",
      "\n",
      "Lovocogangosaurus\n",
      "Lomomasaurus\n",
      "Urolakosanicasaurus\n",
      "Clalnosaurus\n",
      "Diuliatenaurus\n",
      "Baraiachamia\n",
      "Aostanolosaurus\n",
      "\n",
      "\n",
      "Iteration: 12000 | Loss: 22.395661\n",
      "\n",
      "Holcessaurus\n",
      "Avisaurus\n",
      "Cengasinurosaurus\n",
      "Athushunosheasamrus\n",
      "Xyurlasus\n",
      "Cosvoraptor\n",
      "Sengtassurus\n",
      "\n",
      "\n",
      "Iteration: 14000 | Loss: 22.370564\n",
      "\n",
      "Nakbinothosocolanoraus\n",
      "Tiechoceratops\n",
      "Aeshosaurus\n",
      "Sauroriosmus\n",
      "Andonmosaurus\n",
      "Umasyoceria\n",
      "Aniaoterata\n",
      "\n",
      "\n",
      "Iteration: 16000 | Loss: 22.329815\n",
      "\n",
      "Lumlinatoya\n",
      "Bupangaluptan\n",
      "Anchpaus\n",
      "Romelosaurus\n",
      "Rhinpholodon\n",
      "Heicaceratom\n",
      "Fosca\n",
      "\n",
      "\n",
      "Iteration: 18000 | Loss: 21.936210\n",
      "\n",
      "Seovalosaurus\n",
      "Jugtosaurosaucus\n",
      "Chinosaurus\n",
      "Midalosaurus\n",
      "Soveratlosaurus\n",
      "Dinothosaurus\n",
      "Shushisaurus\n",
      "\n",
      "\n",
      "Iteration: 20000 | Loss: 21.963944\n",
      "\n",
      "Zhharosaurus\n",
      "Siamosaurus\n",
      "Kuabhidonnitosaurus\n",
      "Hyanmcussasaurus\n",
      "Nynzuorcoca\n",
      "Rforlosponaurus\n",
      "Dinolavun\n",
      "\n",
      "\n",
      "Iteration: 22000 | Loss: 21.862372\n",
      "\n",
      "Musmeirgemekrus\n",
      "Alertisus\n",
      "Bewdosaurus\n",
      "Seujilosaurus\n",
      "Uinongosaurus\n",
      "Rixinosaurus\n",
      "Tetonshaxin\n",
      "\n",
      "\n",
      "Iteration: 24000 | Loss: 21.768626\n",
      "\n",
      "Icoeysaurus\n",
      "Kelaweratops\n",
      "Motene\n",
      "Alegrdyus\n",
      "Dralopurasaurus\n",
      "Vresaurus\n",
      "Guansaurus\n",
      "\n",
      "\n",
      "Iteration: 26000 | Loss: 21.722073\n",
      "\n",
      "Initochos\n",
      "Laaornasaurus\n",
      "Xiseodobsubsianipan\n",
      "Llibnoos\n",
      "Neuenosaurus\n",
      "Wulalyphotnatelba\n",
      "Meninosaurus\n",
      "\n",
      "\n",
      "Iteration: 28000 | Loss: 21.705440\n",
      "\n",
      "Plosaurus\n",
      "Xibiclonaxus\n",
      "Leindosaurus\n",
      "Coritys\n",
      "Taphetisaurus\n",
      "Trcoven\n",
      "Pridiadia\n",
      "\n",
      "\n",
      "Iteration: 30000 | Loss: 21.741199\n",
      "\n",
      "Luwatasaurus\n",
      "Verenopephran\n",
      "Brocosaurus\n",
      "Lushnon\n",
      "Lrhanyus\n",
      "Shurocondophurssus\n",
      "Erchayua\n",
      "\n",
      "\n",
      "Iteration: 32000 | Loss: 21.424200\n",
      "\n",
      "Zhaitiania\n",
      "Cidonosaurus\n",
      "Mijualsaurus\n",
      "Melangasaurus\n",
      "Laoropteliasaurus\n",
      "Kubsianomodus\n",
      "Anmansaurus\n",
      "\n",
      "\n",
      "Iteration: 34000 | Loss: 21.436294\n",
      "\n",
      "Zhametagatiia\n",
      "Ciegongs\n",
      "Daharegnasaurus\n",
      "Sauromer\n",
      "Prong\n",
      "Cusaymadus\n",
      "Pachuconatorantor\n",
      "\n",
      "\n"
     ]
    }
   ],
   "source": [
    "params = language_model(data, idx_to_char, char_to_idx)"
   ]
  }
 ],
 "metadata": {
  "kernelspec": {
   "display_name": "Python 3",
   "language": "python",
   "name": "python3"
  },
  "language_info": {
   "codemirror_mode": {
    "name": "ipython",
    "version": 3
   },
   "file_extension": ".py",
   "mimetype": "text/x-python",
   "name": "python",
   "nbconvert_exporter": "python",
   "pygments_lexer": "ipython3",
   "version": "3.7.3"
  },
  "toc": {
   "base_numbering": 1,
   "nav_menu": {},
   "number_sections": false,
   "sideBar": true,
   "skip_h1_title": false,
   "title_cell": "Table of Contents",
   "title_sidebar": "Contents",
   "toc_cell": false,
   "toc_position": {},
   "toc_section_display": true,
   "toc_window_display": false
  }
 },
 "nbformat": 4,
 "nbformat_minor": 2
}
