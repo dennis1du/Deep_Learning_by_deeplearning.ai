{
 "cells": [
  {
   "cell_type": "markdown",
   "metadata": {},
   "source": [
    "# Setup"
   ]
  },
  {
   "cell_type": "code",
   "execution_count": 1,
   "metadata": {},
   "outputs": [],
   "source": [
    "import numpy as np\n",
    "import h5py\n",
    "import matplotlib.pyplot as plt\n",
    "\n",
    "import tensorflow as tf\n",
    "from tensorflow.python.framework import ops\n",
    "\n",
    "%matplotlib inline\n",
    "\n",
    "np.random.seed(1)"
   ]
  },
  {
   "cell_type": "markdown",
   "metadata": {},
   "source": [
    "# Helper Functions"
   ]
  },
  {
   "cell_type": "markdown",
   "metadata": {},
   "source": [
    "- Data"
   ]
  },
  {
   "cell_type": "code",
   "execution_count": 2,
   "metadata": {},
   "outputs": [],
   "source": [
    "def load_dataset():\n",
    "    \n",
    "    train_dataset = h5py.File('./train_signs.h5', \"r\")\n",
    "    train_set_x_orig = np.array(train_dataset[\"train_set_x\"][:])\n",
    "    train_set_y_orig = np.array(train_dataset[\"train_set_y\"][:])\n",
    "\n",
    "    test_dataset = h5py.File('./test_signs.h5', \"r\")\n",
    "    test_set_x_orig = np.array(test_dataset[\"test_set_x\"][:])\n",
    "    test_set_y_orig = np.array(test_dataset[\"test_set_y\"][:])\n",
    "\n",
    "    classes = np.array(test_dataset[\"list_classes\"][:])\n",
    "    \n",
    "    train_set_y_orig = train_set_y_orig.reshape((1, train_set_y_orig.shape[0]))\n",
    "    test_set_y_orig = test_set_y_orig.reshape((1, test_set_y_orig.shape[0]))\n",
    "    \n",
    "    return train_set_x_orig, train_set_y_orig, test_set_x_orig, test_set_y_orig, classes"
   ]
  },
  {
   "cell_type": "markdown",
   "metadata": {},
   "source": [
    "- Processing"
   ]
  },
  {
   "cell_type": "code",
   "execution_count": 3,
   "metadata": {},
   "outputs": [],
   "source": [
    "def onehot_encoder(Y, C):\n",
    "    '''\n",
    "    One-hot encode label array to matrix\n",
    "        - C: integer, the number of classes\n",
    "    '''\n",
    "    \n",
    "    return np.eye(C)[Y.reshape(-1)].T"
   ]
  },
  {
   "cell_type": "markdown",
   "metadata": {},
   "source": [
    "- Mini-batch"
   ]
  },
  {
   "cell_type": "code",
   "execution_count": 4,
   "metadata": {},
   "outputs": [],
   "source": [
    "def random_mini_batches(X, Y, batch_size=64, seed=0):\n",
    "    '''\n",
    "    Generate a list of random mini-batches from (X, Y)\n",
    "    '''\n",
    "    \n",
    "    np.random.seed(seed)\n",
    "    \n",
    "    m = X.shape[1]\n",
    "    mini_batches = []\n",
    "    \n",
    "    # Permutation\n",
    "    shuffle = np.random.permutation(m)\n",
    "    shuffled_X = X[:, shuffle]\n",
    "    shuffled_Y = Y[:, shuffle]\n",
    "    \n",
    "    # Partition\n",
    "    n_full_batches = m//batch_size\n",
    "    \n",
    "    for k in range(n_full_batches):\n",
    "        mini_batch_X = shuffled_X[:, k*batch_size: (k+1)*batch_size]\n",
    "        mini_batch_Y = shuffled_Y[:, k*batch_size: (k+1)*batch_size]\n",
    "        mini_batch = (mini_batch_X, mini_batch_Y)\n",
    "        mini_batches.append(mini_batch)\n",
    "    \n",
    "    if m % batch_size != 0:\n",
    "        mini_batch_X = shuffled_X[:, n_full_batches*batch_size:]\n",
    "        mini_batch_Y = shuffled_Y[:, n_full_batches*batch_size:]\n",
    "        mini_batch = (mini_batch_X, mini_batch_Y)\n",
    "        mini_batches.append(mini_batch)\n",
    "    \n",
    "    return mini_batches"
   ]
  },
  {
   "cell_type": "markdown",
   "metadata": {},
   "source": [
    "# Modules"
   ]
  },
  {
   "cell_type": "markdown",
   "metadata": {},
   "source": [
    "- Create placeholders for X and Y"
   ]
  },
  {
   "cell_type": "code",
   "execution_count": 5,
   "metadata": {},
   "outputs": [],
   "source": [
    "def create_placeholders(n_x, n_y):\n",
    "    '''\n",
    "    Create placeholders for X and Y in the tensorflow session\n",
    "        - n_x: integer, size of an image vector\n",
    "        - n_y: integer, number of classes\n",
    "    '''\n",
    "    \n",
    "    X = tf.placeholder(dtype=tf.float32, shape=[n_x, None], name='X')\n",
    "    Y = tf.placeholder(dtype=tf.float32, shape=[n_y, None], name='Y')\n",
    "    \n",
    "    return X, Y"
   ]
  },
  {
   "cell_type": "markdown",
   "metadata": {},
   "source": [
    "- Initialize the parameters"
   ]
  },
  {
   "cell_type": "code",
   "execution_count": 6,
   "metadata": {},
   "outputs": [],
   "source": [
    "def random_mini_batches(X, Y, batch_size=64, seed=0):\n",
    "    '''\n",
    "    Generate a list of random mini-batches from (X, Y)\n",
    "    '''\n",
    "    \n",
    "    np.random.seed(seed)\n",
    "    \n",
    "    m = X.shape[1]\n",
    "    mini_batches = []\n",
    "    \n",
    "    # Permutation\n",
    "    shuffle = np.random.permutation(m)\n",
    "    shuffled_X = X[:, shuffle]\n",
    "    shuffled_Y = Y[:, shuffle]\n",
    "    \n",
    "    # Partition\n",
    "    n_full_batches = m//batch_size\n",
    "    \n",
    "    for k in range(n_full_batches):\n",
    "        mini_batch_X = shuffled_X[:, k*batch_size: (k+1)*batch_size]\n",
    "        mini_batch_Y = shuffled_Y[:, k*batch_size: (k+1)*batch_size]\n",
    "        mini_batch = (mini_batch_X, mini_batch_Y)\n",
    "        mini_batches.append(mini_batch)\n",
    "    \n",
    "    if m % batch_size != 0:\n",
    "        mini_batch_X = shuffled_X[:, n_full_batches*batch_size:]\n",
    "        mini_batch_Y = shuffled_Y[:, n_full_batches*batch_size:]\n",
    "        mini_batch = (mini_batch_X, mini_batch_Y)\n",
    "        mini_batches.append(mini_batch)\n",
    "    \n",
    "    return mini_batches\n",
    "\n",
    "def create_placeholders(n_x, n_y):\n",
    "    '''\n",
    "    Create placeholders for X and Y in the tensorflow session\n",
    "        - n_x: integer, size of an image vector\n",
    "        - n_y: integer, number of classes\n",
    "    '''\n",
    "    \n",
    "    X = tf.placeholder(dtype=tf.float32, shape=[n_x, None], name='X')\n",
    "    Y = tf.placeholder(dtype=tf.float32, shape=[n_y, None], name='Y')\n",
    "    \n",
    "    return X, Y\n",
    "\n",
    "def initialize_params(layers_dims):\n",
    "    '''\n",
    "    Initialize the parameters for the neural network\n",
    "        - layers_dims: array of the numbers of units for different layers, including input layer\n",
    "    '''\n",
    "    \n",
    "    tf.set_random_seed(1)\n",
    "    \n",
    "    L = len(layers_dims) - 1\n",
    "    params = {}\n",
    "    \n",
    "    for l in range(1, L+1):\n",
    "        params['W' + str(l)] = tf.get_variable(name='W' + str(l), shape=[layers_dims[l], layers_dims[l-1]],\n",
    "                                               initializer=tf.contrib.layers.xavier_initializer(seed=1))\n",
    "        params['b' + str(l)] = tf.get_variable(name='b' + str(l), shape=[layers_dims[l], 1],\n",
    "                                               initializer=tf.zeros_initializer())\n",
    "    \n",
    "    return params"
   ]
  },
  {
   "cell_type": "markdown",
   "metadata": {},
   "source": [
    "- Forward propagation"
   ]
  },
  {
   "cell_type": "code",
   "execution_count": 7,
   "metadata": {},
   "outputs": [],
   "source": [
    "def forward_propagation(X, params):\n",
    "    '''\n",
    "    Implement the forward propagation for LINEAR->RELU->...->LINEAR->RELU->LINEAR (->SOFTMAX will be in cost module)\n",
    "    '''\n",
    "    \n",
    "    L = len(params)//2\n",
    "    \n",
    "    Z_new = tf.add(tf.matmul(params['W1'], X), params['b1'])\n",
    "    for l in range(2, L+1):\n",
    "        Z = Z_new\n",
    "        A = tf.nn.relu(Z)\n",
    "        Z_new = tf.add(tf.matmul(params['W' + str(l)], A), params['b' + str(l)])\n",
    "    \n",
    "    ZL = Z_new\n",
    "    \n",
    "    return ZL  "
   ]
  },
  {
   "cell_type": "markdown",
   "metadata": {},
   "source": [
    "- Cost"
   ]
  },
  {
   "cell_type": "code",
   "execution_count": 8,
   "metadata": {},
   "outputs": [],
   "source": [
    "def compute_cost(ZL, Y):\n",
    "    '''\n",
    "    Compute the cost, using softmax cross entropy formula\n",
    "    '''\n",
    "    \n",
    "    # Transpose to fit the shape reguirement of tf\n",
    "    logits = tf.transpose(ZL)\n",
    "    labels = tf.transpose(Y)\n",
    "    \n",
    "    cost = tf.reduce_mean(tf.nn.softmax_cross_entropy_with_logits(labels=labels, logits=logits))\n",
    "    \n",
    "    return cost"
   ]
  },
  {
   "cell_type": "markdown",
   "metadata": {},
   "source": [
    "# Model"
   ]
  },
  {
   "cell_type": "code",
   "execution_count": 9,
   "metadata": {},
   "outputs": [],
   "source": [
    "def model(X_train, Y_train, X_test, Y_test, layers_dims, lr=0.0001, epochs=1500, batch_size=32, print_cost=True):\n",
    "    '''\n",
    "    Implement a neural network for multi-class classification\n",
    "    '''\n",
    "    \n",
    "    ops.reset_default_graph()  # to rerun the model without overwriting tf variables\n",
    "    tf.set_random_seed(1)\n",
    "    seed = 3\n",
    "    \n",
    "    n_x, m = X_train.shape\n",
    "    n_y = Y_train.shape[0]\n",
    "    costs = []\n",
    "    \n",
    "    # Build framework\n",
    "    ## create placeholders\n",
    "    X, Y = create_placeholders(n_x, n_y)\n",
    "    \n",
    "    ## initialize parameters\n",
    "    params = initialize_params(layers_dims)\n",
    "    \n",
    "    ## forward propagation\n",
    "    ZL = forward_propagation(X, params)\n",
    "    \n",
    "    ## cost function\n",
    "    cost = compute_cost(ZL, Y)\n",
    "    \n",
    "    ## backpropagation with Adam optimizer\n",
    "    optimizer = tf.train.AdamOptimizer(learning_rate=lr).minimize(cost)\n",
    "    \n",
    "    # Initialize all tf variables\n",
    "    init = tf.global_variables_initializer()\n",
    "    \n",
    "    # Run the session\n",
    "    with tf.Session() as sess:\n",
    "        \n",
    "        ## run the initialization\n",
    "        sess.run(init)\n",
    "        \n",
    "        ## training loop\n",
    "        for epoch in range(epochs):\n",
    "            \n",
    "            epoch_cost = 0\n",
    "            seed += 1\n",
    "            mini_batches = random_mini_batches(X_train, Y_train, batch_size, seed)\n",
    "            n_batches = len(mini_batches) - 1\n",
    "            \n",
    "            for mini_batch in mini_batches:\n",
    "                \n",
    "                mini_batch_X, mini_batch_Y = mini_batch\n",
    "                \n",
    "                ### run the session to execute the 'optimizer' and the 'cost'\n",
    "                _, batch_cost = sess.run([optimizer, cost], feed_dict={X: mini_batch_X, Y: mini_batch_Y})\n",
    "            \n",
    "                epoch_cost += batch_cost/n_batches\n",
    "\n",
    "            #epoch_cost /= n_batches\n",
    "        \n",
    "            ### print the cost\n",
    "            if print_cost and epoch % 100 == 0:\n",
    "                print('Cost after epoch %i: %f' % (epoch, epoch_cost))\n",
    "            if print_cost and epoch % 5 == 0:\n",
    "                costs.append(epoch_cost)\n",
    "        \n",
    "        ## plot the cost\n",
    "        plt.plot(costs)\n",
    "        plt.ylabel('cost')\n",
    "        plt.xlabel('epochs (x5)')\n",
    "        plt.title('Learning rate =' + str(lr))\n",
    "        plt.show()\n",
    "        \n",
    "        ## save the learned parameters\n",
    "        params = sess.run(params)\n",
    "        \n",
    "        ## calculate the accuracy\n",
    "        correct = tf.equal(tf.argmax(ZL), tf.argmax(Y))\n",
    "        acc = tf.reduce_mean(tf.cast(correct, 'float'))\n",
    "        print('Train Accuracy: ', acc.eval({X: X_train, Y: Y_train}))\n",
    "        print('Test Accuracy: ', acc.eval({X: X_test, Y: Y_test}))\n",
    "        \n",
    "        return params"
   ]
  },
  {
   "cell_type": "markdown",
   "metadata": {},
   "source": [
    "# Experiment"
   ]
  },
  {
   "cell_type": "markdown",
   "metadata": {},
   "source": [
    "- Data"
   ]
  },
  {
   "cell_type": "code",
   "execution_count": 10,
   "metadata": {},
   "outputs": [],
   "source": [
    "# Load data\n",
    "X_train_orig, Y_train_orig, X_test_orig, Y_test_orig, classes = load_dataset()\n",
    "\n",
    "# number of classes\n",
    "C = len(classes)"
   ]
  },
  {
   "cell_type": "code",
   "execution_count": 11,
   "metadata": {},
   "outputs": [
    {
     "name": "stdout",
     "output_type": "stream",
     "text": [
      "y = 5\n"
     ]
    },
    {
     "data": {
      "image/png": "[encoded data removed]",
      "text/plain": [
       "<Figure size 432x288 with 1 Axes>"
      ]
     },
     "metadata": {
      "needs_background": "light"
     },
     "output_type": "display_data"
    }
   ],
   "source": [
    "# Example of a picture\n",
    "index = 0\n",
    "plt.imshow(X_train_orig[index])\n",
    "print (\"y = \" + str(np.squeeze(Y_train_orig[:, index])))"
   ]
  },
  {
   "cell_type": "markdown",
   "metadata": {},
   "source": [
    "- Preprocessing"
   ]
  },
  {
   "cell_type": "code",
   "execution_count": 12,
   "metadata": {},
   "outputs": [],
   "source": [
    "# Flatten image data\n",
    "X_train_flatten = X_train_orig.reshape(X_train_orig.shape[0], -1).T\n",
    "X_test_flatten = X_test_orig.reshape(X_test_orig.shape[0], -1).T\n",
    "\n",
    "# Normalize image vectors\n",
    "X_train = X_train_flatten/255.\n",
    "X_test = X_test_flatten/255.\n",
    "\n",
    "# Convert training and test labels to one hot matrices\n",
    "Y_train = onehot_encoder(Y_train_orig, C)\n",
    "Y_test = onehot_encoder(Y_test_orig, C)"
   ]
  },
  {
   "cell_type": "markdown",
   "metadata": {},
   "source": [
    "- Run"
   ]
  },
  {
   "cell_type": "code",
   "execution_count": 14,
   "metadata": {
    "scrolled": false
   },
   "outputs": [
    {
     "name": "stdout",
     "output_type": "stream",
     "text": [
      "Cost after epoch 0: 1.855702\n",
      "Cost after epoch 100: 1.017255\n",
      "Cost after epoch 200: 0.733184\n",
      "Cost after epoch 300: 0.573071\n",
      "Cost after epoch 400: 0.468699\n",
      "Cost after epoch 500: 0.381208\n",
      "Cost after epoch 600: 0.313825\n",
      "Cost after epoch 700: 0.253641\n",
      "Cost after epoch 800: 0.203895\n",
      "Cost after epoch 900: 0.166448\n",
      "Cost after epoch 1000: 0.146694\n",
      "Cost after epoch 1100: 0.107274\n",
      "Cost after epoch 1200: 0.086552\n",
      "Cost after epoch 1300: 0.059337\n",
      "Cost after epoch 1400: 0.052209\n"
     ]
    },
    {
     "data": {
      "image/png": "[encoded data removed]",
      "text/plain": [
       "<Figure size 432x288 with 1 Axes>"
      ]
     },
     "metadata": {
      "needs_background": "light"
     },
     "output_type": "display_data"
    },
    {
     "name": "stdout",
     "output_type": "stream",
     "text": [
      "Train Accuracy:  0.9990741\n",
      "Test Accuracy:  0.725\n"
     ]
    }
   ],
   "source": [
    "# 3-layer neural network\n",
    "layers_dims=[X_train.shape[0], 25, 12, C]\n",
    "\n",
    "parameters = model(X_train, Y_train, X_test, Y_test, layers_dims)"
   ]
  }
 ],
 "metadata": {
  "kernelspec": {
   "display_name": "Python 3",
   "language": "python",
   "name": "python3"
  },
  "language_info": {
   "codemirror_mode": {
    "name": "ipython",
    "version": 3
   },
   "file_extension": ".py",
   "mimetype": "text/x-python",
   "name": "python",
   "nbconvert_exporter": "python",
   "pygments_lexer": "ipython3",
   "version": "3.7.3"
  },
  "toc": {
   "base_numbering": 1,
   "nav_menu": {},
   "number_sections": false,
   "sideBar": true,
   "skip_h1_title": false,
   "title_cell": "Table of Contents",
   "title_sidebar": "Contents",
   "toc_cell": false,
   "toc_position": {},
   "toc_section_display": true,
   "toc_window_display": false
  }
 },
 "nbformat": 4,
 "nbformat_minor": 2
}
