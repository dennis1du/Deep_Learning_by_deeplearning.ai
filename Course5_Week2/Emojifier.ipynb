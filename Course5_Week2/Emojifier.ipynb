{
 "cells": [
  {
   "cell_type": "markdown",
   "metadata": {},
   "source": [
    "# Setup"
   ]
  },
  {
   "cell_type": "code",
   "execution_count": 1,
   "metadata": {},
   "outputs": [],
   "source": [
    "import numpy as np\n",
    "import pandas as pd\n",
    "import tensorflow as tf\n",
    "import matplotlib.pyplot as plt\n",
    "\n",
    "import csv\n",
    "import emoji"
   ]
  },
  {
   "cell_type": "markdown",
   "metadata": {},
   "source": [
    "# Helper Function\n",
    "- Read Data"
   ]
  },
  {
   "cell_type": "code",
   "execution_count": 2,
   "metadata": {},
   "outputs": [],
   "source": [
    "def read_data(filename):\n",
    "    \n",
    "    phrase, emoji = [], []\n",
    "    \n",
    "    with open(filename) as file:\n",
    "        f = csv.reader(file)\n",
    "        for line in f:\n",
    "            phrase.append(line[0])\n",
    "            emoji.append(line[1])\n",
    "    \n",
    "    X = np.asarray(phrase)\n",
    "    y = np.asarray(emoji, dtype=int)\n",
    "    \n",
    "    return X, y"
   ]
  },
  {
   "cell_type": "markdown",
   "metadata": {},
   "source": [
    "- Load GloVe word embeddings"
   ]
  },
  {
   "cell_type": "code",
   "execution_count": 3,
   "metadata": {},
   "outputs": [],
   "source": [
    "def read_glove_vecs(glove_file):\n",
    "    \n",
    "    with open(glove_file, 'r') as f:\n",
    "        words = set()\n",
    "        word_to_vec_map = {}\n",
    "        for line in f:\n",
    "            line = line.strip().split()\n",
    "            curr_word = line[0]\n",
    "            words.add(curr_word)\n",
    "            word_to_vec_map[curr_word] = np.array(line[1:], dtype=np.float64)\n",
    "        \n",
    "        i = 1\n",
    "        word_to_index = {}\n",
    "        index_to_word = {}\n",
    "        for w in sorted(words):\n",
    "            word_to_index[w] = i\n",
    "            index_to_word[i] = w\n",
    "            i += 1\n",
    "    \n",
    "    return word_to_index, index_to_word, word_to_vec_map"
   ]
  },
  {
   "cell_type": "markdown",
   "metadata": {},
   "source": [
    "- Softmax"
   ]
  },
  {
   "cell_type": "code",
   "execution_count": 4,
   "metadata": {},
   "outputs": [],
   "source": [
    "def softmax(x):\n",
    "    e_x = np.exp(x - np.max(x))\n",
    "    return e_x / np.sum(e_x)"
   ]
  },
  {
   "cell_type": "markdown",
   "metadata": {},
   "source": [
    "- One-hot Encoder"
   ]
  },
  {
   "cell_type": "code",
   "execution_count": 5,
   "metadata": {},
   "outputs": [],
   "source": [
    "def one_hot(Y, C):\n",
    "    Y = np.eye(C)[Y.reshape(-1)]\n",
    "    return Y"
   ]
  },
  {
   "cell_type": "markdown",
   "metadata": {},
   "source": [
    "- Label-to-Emoji"
   ]
  },
  {
   "cell_type": "code",
   "execution_count": 6,
   "metadata": {},
   "outputs": [],
   "source": [
    "emoji_dictionary = {\"0\": \"\\u2764\\uFE0F\",    # :heart: prints a black instead of red heart depending on the font\n",
    "                    \"1\": \":baseball:\",\n",
    "                    \"2\": \":smile:\",\n",
    "                    \"3\": \":disappointed:\",\n",
    "                    \"4\": \":fork_and_knife:\"}\n",
    "\n",
    "def label_to_emoji(label):\n",
    "    return emoji.emojize(emoji_dictionary[str(label)], use_aliases=True)"
   ]
  },
  {
   "cell_type": "markdown",
   "metadata": {},
   "source": [
    "- Print Predictions"
   ]
  },
  {
   "cell_type": "code",
   "execution_count": 7,
   "metadata": {},
   "outputs": [],
   "source": [
    "def print_predictions(X, y_pred):\n",
    "    print()\n",
    "    for i in range(X.shape[0]):\n",
    "        print(X[i], label_to_emoji(int(pred[i])))"
   ]
  },
  {
   "cell_type": "markdown",
   "metadata": {},
   "source": [
    "- Plot Confusion Matrix"
   ]
  },
  {
   "cell_type": "code",
   "execution_count": 8,
   "metadata": {},
   "outputs": [],
   "source": [
    "def plot_confusion_matrix(y, y_pred, cmap=plt.cm.gray_r):\n",
    "    \n",
    "    df_confusion = pd.crosstab(y, y_pred.reshape(y_pred.shape[0],), rownames=['Actual'], colnames=['Predicted'], margins=True)\n",
    "    \n",
    "    plt.matshow(df_confusion, cmap=cmap)  # imshow\n",
    "    plt.colorbar()\n",
    "    tick_marks = np.arange(len(df_confusion.columns))\n",
    "    plt.xticks(ticks=tick_marks, labels=df_confusion.columns, rotation=45)\n",
    "    plt.yticks(ticks=tick_marks, labels=df_confusion.index)\n",
    "    plt.xlabel(df_confusion.columns.name)\n",
    "    plt.ylabel(df_confusion.index.name)"
   ]
  },
  {
   "cell_type": "markdown",
   "metadata": {},
   "source": [
    "- Prediction"
   ]
  },
  {
   "cell_type": "code",
   "execution_count": 9,
   "metadata": {},
   "outputs": [],
   "source": [
    "def predict(X, y, W, b, word_to_vec_map):\n",
    "    '''\n",
    "    Given X (sentences) and y (emoji indices), predict emojis and compute the accuracy of the model over given set\n",
    "    \n",
    "    Returns:\n",
    "    y_pred: numpy array of shape (m, 1) with the predictions\n",
    "    '''\n",
    "    \n",
    "    # Initialization\n",
    "    m = X.shape[0]\n",
    "    y_pred = np.zeros((m, 1))\n",
    "    \n",
    "    # Loop over the test set\n",
    "    for j in range(m):\n",
    "        \n",
    "        ## split the jth test sentence into list of lower case words\n",
    "        words = X[j].lower().split()\n",
    "        \n",
    "        ## average words vectors\n",
    "        avg = sum(word_to_vec_map[word] for word in words) / len(words)\n",
    "        \n",
    "        ## forward propagation\n",
    "        z = np.dot(W, avg) + b\n",
    "        a = softmax(z)\n",
    "        y_pred[j] = np.argmax(a)\n",
    "        \n",
    "    print('Accuracy: ' + str(np.mean((y_pred == y.reshape(-1, 1)))))\n",
    "    \n",
    "    return y_pred"
   ]
  },
  {
   "cell_type": "markdown",
   "metadata": {},
   "source": [
    "# Baseline Model\n",
    "## Dataset\n",
    "- X: sentences\n",
    "- Y: integer label between 0 and 4 corresponding to an emoji for each sentence"
   ]
  },
  {
   "cell_type": "code",
   "execution_count": 10,
   "metadata": {},
   "outputs": [],
   "source": [
    "# 127 training instances\n",
    "X_train, y_train = read_data('./train_emoji.csv')\n",
    "\n",
    "# 56 test instances\n",
    "X_test, y_test = read_data('./tesss.csv')"
   ]
  },
  {
   "cell_type": "markdown",
   "metadata": {},
   "source": [
    "Overview"
   ]
  },
  {
   "cell_type": "code",
   "execution_count": 11,
   "metadata": {},
   "outputs": [
    {
     "name": "stdout",
     "output_type": "stream",
     "text": [
      "never talk to me again 😞\n",
      "I am proud of your achievements 😄\n",
      "It is the worst day in my life 😞\n",
      "Miss you so much ❤️\n",
      "food is life 🍴\n",
      "I love you mum ❤️\n",
      "Stop saying bullshit 😞\n",
      "congratulations on your acceptance 😄\n",
      "The assignment is too long  😞\n",
      "I want to go play ⚾\n"
     ]
    }
   ],
   "source": [
    "for idx in range(10):\n",
    "    print(X_train[idx], label_to_emoji(y_train[idx]))"
   ]
  },
  {
   "cell_type": "markdown",
   "metadata": {},
   "source": [
    "## Model: Emojiffier-V1\n",
    "* Inputs: a string corresponding to a sentence\n",
    "* Outputs: a probability vector of shape (1,5) (there are 5 emojis to choose from)\n",
    "* Architecture: \n",
    "    1. average the word vectors for the sentence string\n",
    "    2. pass the avg vector to softmax layer and return a probability vector\n",
    "    3. extract the index with the highest probability by argmax layer\n",
    "* Drawback: just average all word's embeddings, without considering the **ordering** or **combinations** of words"
   ]
  },
  {
   "cell_type": "markdown",
   "metadata": {},
   "source": [
    "**Load GloVe word embeddings**"
   ]
  },
  {
   "cell_type": "code",
   "execution_count": 12,
   "metadata": {},
   "outputs": [],
   "source": [
    "word_to_index, index_to_word, word_to_vec_map = read_glove_vecs('./glove.6B.50d.txt')"
   ]
  },
  {
   "cell_type": "markdown",
   "metadata": {},
   "source": [
    "**Average word vectors for sentence**"
   ]
  },
  {
   "cell_type": "code",
   "execution_count": 13,
   "metadata": {},
   "outputs": [],
   "source": [
    "def sentence_to_avg(sentence, word_to_vec_map):\n",
    "    '''\n",
    "    Convert a sentence (string) into a list of words, extract the GloVe vectors of each word and average the values into a single vector.\n",
    "    \n",
    "    Arguments:\n",
    "        --sentence: string, input sentence\n",
    "    \n",
    "    Returns:\n",
    "    avg: average vector\n",
    "    '''\n",
    "    \n",
    "    # Split the sentence into a list of lower case words\n",
    "    words = sentence.lower().split()\n",
    "    \n",
    "    # Average the GloVe vectors for all words\n",
    "    avg = sum(word_to_vec_map[word] for word in words) / len(words)\n",
    "    \n",
    "    return avg"
   ]
  },
  {
   "cell_type": "markdown",
   "metadata": {},
   "source": [
    "- Model\n",
    "$$ z^{(i)} = W . avg^{(i)} + b$$\n",
    "\n",
    "$$ a^{(i)} = softmax(z^{(i)})$$\n",
    "\n",
    "$$ \\mathcal{L}^{(i)} = - \\sum_{k = 0}^{n_y - 1} Y_{oh,k}^{(i)} * log(a^{(i)}_k)$$"
   ]
  },
  {
   "cell_type": "code",
   "execution_count": 14,
   "metadata": {},
   "outputs": [],
   "source": [
    "def Emojify_V1(X, y, word_to_vec_map, lr=0.01, epochs=400):\n",
    "    \n",
    "    # Setup\n",
    "    np.random.seed(1)\n",
    "    m = X.shape[0]\n",
    "    n_y = 5\n",
    "    n_h = word_to_vec_map['a'].shape[0]\n",
    "    \n",
    "    # Initialize parameters using Xavier initialization\n",
    "    W = np.random.randn(n_y, n_h) / np.sqrt(n_h)\n",
    "    b = np.zeros((n_y,))\n",
    "    \n",
    "    # Convert y into ont-hot format, suitable for softmax classifier: from (m, 1) to (m, n_y)\n",
    "    y_1h = one_hot(y, C=n_y)\n",
    "    \n",
    "    # Optimization loop\n",
    "    for t in range(epochs):\n",
    "        for i in range(m):\n",
    "            \n",
    "            ## average the word vectors for ith training instance\n",
    "            avg = sentence_to_avg(X[i], word_to_vec_map)\n",
    "            \n",
    "            # forward propagation\n",
    "            z = np.dot(W, avg) + b\n",
    "            a = softmax(z)\n",
    "            \n",
    "            # cost function\n",
    "            cost = - np.sum(y_1h[i] * np.log(a))\n",
    "            \n",
    "            # compute gradients\n",
    "            dz = a - y_1h[i]\n",
    "            dW = np.dot(dz.reshape(n_y, 1), avg.reshape(1, n_h))\n",
    "            db = dz\n",
    "            \n",
    "            # update parameters with SGD\n",
    "            W -= lr * dW\n",
    "            b -= lr * db\n",
    "        \n",
    "        if t % 100 == 0:\n",
    "            print('Epoch: ' + str(t) + ' --- cost = ' + str(cost))\n",
    "            y_pred = predict(X, y, W, b, word_to_vec_map)\n",
    "    \n",
    "    return y_pred, W, b"
   ]
  },
  {
   "cell_type": "markdown",
   "metadata": {},
   "source": [
    "- Experiment"
   ]
  },
  {
   "cell_type": "code",
   "execution_count": 15,
   "metadata": {},
   "outputs": [
    {
     "name": "stdout",
     "output_type": "stream",
     "text": [
      "Epoch: 0 --- cost = 1.9520498812810076\n",
      "Accuracy: 0.3484848484848485\n",
      "Epoch: 100 --- cost = 0.07971818726014794\n",
      "Accuracy: 0.9318181818181818\n",
      "Epoch: 200 --- cost = 0.04456369243681402\n",
      "Accuracy: 0.9545454545454546\n",
      "Epoch: 300 --- cost = 0.03432267378786059\n",
      "Accuracy: 0.9696969696969697\n",
      "[[3.]\n",
      " [2.]\n",
      " [3.]\n",
      " [0.]\n",
      " [4.]\n",
      " [0.]\n",
      " [3.]\n",
      " [2.]\n",
      " [3.]\n",
      " [1.]\n",
      " [3.]\n",
      " [3.]\n",
      " [1.]\n",
      " [3.]\n",
      " [2.]\n",
      " [3.]\n",
      " [2.]\n",
      " [3.]\n",
      " [1.]\n",
      " [2.]\n",
      " [3.]\n",
      " [0.]\n",
      " [2.]\n",
      " [2.]\n",
      " [2.]\n",
      " [1.]\n",
      " [4.]\n",
      " [3.]\n",
      " [3.]\n",
      " [4.]\n",
      " [0.]\n",
      " [3.]\n",
      " [4.]\n",
      " [2.]\n",
      " [0.]\n",
      " [3.]\n",
      " [2.]\n",
      " [2.]\n",
      " [3.]\n",
      " [4.]\n",
      " [2.]\n",
      " [2.]\n",
      " [0.]\n",
      " [2.]\n",
      " [3.]\n",
      " [0.]\n",
      " [3.]\n",
      " [2.]\n",
      " [4.]\n",
      " [3.]\n",
      " [0.]\n",
      " [3.]\n",
      " [3.]\n",
      " [3.]\n",
      " [4.]\n",
      " [2.]\n",
      " [1.]\n",
      " [1.]\n",
      " [1.]\n",
      " [2.]\n",
      " [3.]\n",
      " [1.]\n",
      " [0.]\n",
      " [0.]\n",
      " [0.]\n",
      " [3.]\n",
      " [4.]\n",
      " [4.]\n",
      " [2.]\n",
      " [2.]\n",
      " [1.]\n",
      " [2.]\n",
      " [0.]\n",
      " [3.]\n",
      " [2.]\n",
      " [2.]\n",
      " [0.]\n",
      " [3.]\n",
      " [3.]\n",
      " [1.]\n",
      " [2.]\n",
      " [1.]\n",
      " [2.]\n",
      " [2.]\n",
      " [4.]\n",
      " [3.]\n",
      " [3.]\n",
      " [2.]\n",
      " [4.]\n",
      " [0.]\n",
      " [0.]\n",
      " [3.]\n",
      " [3.]\n",
      " [3.]\n",
      " [3.]\n",
      " [2.]\n",
      " [0.]\n",
      " [1.]\n",
      " [2.]\n",
      " [3.]\n",
      " [0.]\n",
      " [2.]\n",
      " [2.]\n",
      " [2.]\n",
      " [3.]\n",
      " [2.]\n",
      " [2.]\n",
      " [2.]\n",
      " [4.]\n",
      " [1.]\n",
      " [1.]\n",
      " [3.]\n",
      " [3.]\n",
      " [4.]\n",
      " [1.]\n",
      " [2.]\n",
      " [1.]\n",
      " [1.]\n",
      " [3.]\n",
      " [1.]\n",
      " [0.]\n",
      " [4.]\n",
      " [0.]\n",
      " [3.]\n",
      " [3.]\n",
      " [4.]\n",
      " [4.]\n",
      " [1.]\n",
      " [4.]\n",
      " [3.]\n",
      " [0.]\n",
      " [2.]]\n"
     ]
    }
   ],
   "source": [
    "pred, W, b = Emojify_V1(X_train, y_train, word_to_vec_map)\n",
    "print(pred)"
   ]
  },
  {
   "cell_type": "markdown",
   "metadata": {},
   "source": [
    "- Evaluation"
   ]
  },
  {
   "cell_type": "code",
   "execution_count": 16,
   "metadata": {},
   "outputs": [
    {
     "name": "stdout",
     "output_type": "stream",
     "text": [
      "Training set:\n",
      "Accuracy: 0.9772727272727273\n",
      "Test set:\n",
      "Accuracy: 0.8571428571428571\n"
     ]
    }
   ],
   "source": [
    "print(\"Training set:\")\n",
    "y_train_pred = predict(X_train, y_train, W, b, word_to_vec_map)\n",
    "print('Test set:')\n",
    "y_test_pred = predict(X_test, y_test, W, b, word_to_vec_map)"
   ]
  },
  {
   "cell_type": "markdown",
   "metadata": {},
   "source": [
    "- Confusion Matrix"
   ]
  },
  {
   "cell_type": "code",
   "execution_count": 17,
   "metadata": {},
   "outputs": [
    {
     "name": "stdout",
     "output_type": "stream",
     "text": [
      "(56,)\n",
      "           ❤️    ⚾    😄    😞   🍴\n",
      "Predicted  0.0  1.0  2.0  3.0  4.0  All\n",
      "Actual                                 \n",
      "0            6    0    0    1    0    7\n",
      "1            0    8    0    0    0    8\n",
      "2            2    0   16    0    0   18\n",
      "3            1    1    2   12    0   16\n",
      "4            0    0    1    0    6    7\n",
      "All          9    9   19   13    6   56\n"
     ]
    },
    {
     "data": {
      "image/png": "[encoded data removed]",
      "text/plain": [
       "<Figure size 288x288 with 2 Axes>"
      ]
     },
     "metadata": {
      "needs_background": "light"
     },
     "output_type": "display_data"
    }
   ],
   "source": [
    "print(y_test.shape)\n",
    "print('           '+ label_to_emoji(0)+ '    ' + label_to_emoji(1) + '    ' +  label_to_emoji(2)+ '    ' + label_to_emoji(3)+'   ' + label_to_emoji(4))\n",
    "print(pd.crosstab(y_test, y_test_pred.reshape(56,), rownames=['Actual'], colnames=['Predicted'], margins=True))\n",
    "plot_confusion_matrix(y_test, y_test_pred)"
   ]
  },
  {
   "cell_type": "markdown",
   "metadata": {},
   "source": [
    "# LSTM Model\n",
    "## Padding\n",
    "* Train Keras using mini-batches, but sequences have different length\n",
    "* Common solution: use **Padding** handle sequences of varying length\n",
    "    1. set a maximum sequence length\n",
    "    2. pad all sequences to have the same length with \"0\"s"
   ]
  },
  {
   "cell_type": "markdown",
   "metadata": {},
   "source": [
    "## Embedding Layer\n",
    "* In Keras, the embedding matrix is represented as a \"layer\"\n",
    "* The embedding matrix maps word indices to embedding vectors\n",
    "    - the word indices are positive integers; the embedding vectors are dense vectors of fixed size\n",
    "    - \"dense\": most of the values are non-zero; counter-example: one-hot encoded vector\n",
    "* Use and update the pre-trained embeddings\n",
    "    - create an [Embedding()](https://keras.io/layers/embeddings/) layer in Keras\n",
    "    - initialize the Embedding layer with the GloVe 50-dimensional vectors\n",
    "    - in Keras, it allows you to either train or leave fixed this layer; in our case, the training set is quite small, we will leave the GloVe embeddings fixed instead of updating them\n",
    "\n",
    "* Inputs and outputs to the embedding layer\n",
    "    * The input is an integer matrix of size **(batch size, max input length)**:\n",
    "        - the \"max input length\" is achieved by zero-padded\n",
    "        - the sentences are converted into lists of indices (integers)\n",
    "        * the largest integer (the highest word index) should be no larger than the vocabulary size\n",
    "    * The output is an array of shape **(batch size, max input length, dimension of word vectors)**"
   ]
  },
  {
   "cell_type": "markdown",
   "metadata": {},
   "source": [
    "**Prepare the input sentences**"
   ]
  },
  {
   "cell_type": "code",
   "execution_count": 18,
   "metadata": {},
   "outputs": [],
   "source": [
    "def sentences_to_indices(X, word_to_index, max_len):\n",
    "    '''\n",
    "    Convert an array of sentences (strings) into an array of indices corresponding to words in the sentences\n",
    "    \n",
    "    Arguments:\n",
    "        --X: input array of sentences (strings), of shape (m, 1)\n",
    "        --max_len: maximum number of words in a sentence ~ zero-padding\n",
    "    \n",
    "    Return:\n",
    "    X_indices: array of indices corresponding to words in the sentences from X, of shape (m, max_len)\n",
    "    '''\n",
    "    \n",
    "    # Initialization\n",
    "    m = X.shape[0]\n",
    "    X_indices = np.zeros((m, max_len))\n",
    "    \n",
    "    # Loop over the whole training instances\n",
    "    for i in range(m):\n",
    "        \n",
    "        ## split the ith training sentence into lower case word list\n",
    "        words = X[i].lower().split()\n",
    "        \n",
    "        ## initialize j to 0\n",
    "        j = 0\n",
    "        \n",
    "        ## loop over the words in the ith training sentence\n",
    "        for word in words:\n",
    "            X_indices[i, j] = word_to_index[word]\n",
    "            j += 1\n",
    "    \n",
    "    return X_indices"
   ]
  },
  {
   "cell_type": "markdown",
   "metadata": {},
   "source": [
    "**Build embedding layer**\n",
    "- Embedding matrix is a numpy array of shape **(vocabulary length, embedding dimension)**\n",
    "    - vocabulary length = number of unique words + 1 (for \"unkonw\" words)\n",
    "    - for GloVe word embeddings, the dimension = 50\n",
    "- With [Embedding()](https://keras.io/layers/embeddings/) layer in Keras\n",
    "    - make the layer's embeddings fixed: in our case, we don't want the model to modify the word embeddings\n",
    "    - set `trainable = False`\n",
    "    - set the embedding weights to be equal to the embedding matrix"
   ]
  },
  {
   "cell_type": "code",
   "execution_count": 19,
   "metadata": {},
   "outputs": [],
   "source": [
    "def pretrained_embedding_layer(word_to_vec_map, word_to_index):\n",
    "    '''\n",
    "    Create a Keras Embedding() layer and loads in pre-trained GloVe 50-dimensional vectors\n",
    "    \n",
    "    Returns:\n",
    "    embedding_layer: pretrained layer Keras instance\n",
    "    '''\n",
    "    \n",
    "    # Initialization\n",
    "    vocab_len = len(word_to_index) + 1\n",
    "    emb_dim = word_to_vec_map['a'].shape[0]\n",
    "    emb_matrix = np.zeros((vocab_len, emb_dim))\n",
    "    \n",
    "    # Fill in the embedding matrix with the GloVe vector\n",
    "    for word, idx in word_to_index.items():\n",
    "        emb_matrix[idx, :] = word_to_vec_map[word]\n",
    "    \n",
    "    # Define Keras Embedding layer\n",
    "    embedding_layer = tf.keras.layers.Embedding(input_dim=vocab_len, output_dim=emb_dim, trainable=False)\n",
    "    \n",
    "    # Build the embedding layer; this is required before setting the weights of the embedding layer\n",
    "    embedding_layer.build((None,))\n",
    "    \n",
    "    # Set the weights of the embedding layer to the embedding matrix ~ pre-trained\n",
    "    embedding_layer.set_weights([emb_matrix])\n",
    "    \n",
    "    return embedding_layer"
   ]
  },
  {
   "cell_type": "markdown",
   "metadata": {},
   "source": [
    "## Model: Emojifier-V2\n",
    "* Modeling with LSTM, taking word sequences as input $\\to$ capture word ordering or combination\n",
    "* Will continue to use pre-trained word embedings to represent words\n",
    "* Network Architecture:\n",
    "    1. **2-layer LSTM** sequence model\n",
    "    2. feed embedding vector of each word to the **LSTM** cell as each time-step input\n",
    "    3. use **Dropout layer** to regularize the 1st layer output and feed to the 2nd layer as the input to **LSTM**\n",
    "    4. in the end, use a **Dropout layer + Softmax layer** to output the probability vector for the emoji classification"
   ]
  },
  {
   "cell_type": "code",
   "execution_count": 20,
   "metadata": {},
   "outputs": [],
   "source": [
    "def Emojify_V2(input_shape, word_to_vec_map, word_to_index):\n",
    "    '''\n",
    "    Create the Emojify-V2 model' graph\n",
    "    \n",
    "    Arguments:\n",
    "        --input_shape: shape of the input, usually (max_len,)\n",
    "    \n",
    "    Returns:\n",
    "    model -- a model instance in Keras\n",
    "    '''\n",
    "    \n",
    "    # Input layer: define input of the graph\n",
    "    sentence_indices = tf.keras.layers.Input(shape=input_shape, dtype='int32')\n",
    "    \n",
    "    # Embedding layer: pre-trained with GloVe vectors\n",
    "    embedding_layer = pretrained_embedding_layer(word_to_vec_map, word_to_index)\n",
    "    \n",
    "    # Preprocess for embeddings\n",
    "    embeddings = embedding_layer(sentence_indices)\n",
    "    \n",
    "    # Feed embeddings to the 1st LSTM layer with 128-dimensional hidden state; the output should be a batch of sequences\n",
    "    X = tf.keras.layers.LSTM(units=128, return_sequences=True)(embeddings)\n",
    "    \n",
    "    # Add Dropout layer with rate of 0.5\n",
    "    X = tf.keras.layers.Dropout(rate=0.5)(X)\n",
    "    \n",
    "    # Feed the output to the 2nd LSTM layer with 128-dimensional hidden state; the output should be a single hidden state (last one)\n",
    "    X = tf.keras.layers.LSTM(units=128, return_sequences=False)(X)\n",
    "    \n",
    "    # Add Dropout layer with rate of 0.5\n",
    "    X = tf.keras.layers.Dropout(rate=0.5)(X)\n",
    "    \n",
    "    # Propagate the output through a Dense layer with 5 units + softmax activation function\n",
    "    X = tf.keras.layers.Dense(units=5, activation='softmax')(X)\n",
    "    \n",
    "    # Create Model instance\n",
    "    model = tf.keras.Model(inputs=sentence_indices, outputs=X)\n",
    "    \n",
    "    return model"
   ]
  },
  {
   "cell_type": "markdown",
   "metadata": {},
   "source": [
    "- Create Model"
   ]
  },
  {
   "cell_type": "code",
   "execution_count": 21,
   "metadata": {},
   "outputs": [
    {
     "name": "stdout",
     "output_type": "stream",
     "text": [
      "Model: \"model\"\n",
      "_________________________________________________________________\n",
      "Layer (type)                 Output Shape              Param #   \n",
      "=================================================================\n",
      "input_1 (InputLayer)         [(None, 10)]              0         \n",
      "_________________________________________________________________\n",
      "embedding (Embedding)        (None, 10, 50)            20000050  \n",
      "_________________________________________________________________\n",
      "lstm (LSTM)                  (None, 10, 128)           91648     \n",
      "_________________________________________________________________\n",
      "dropout (Dropout)            (None, 10, 128)           0         \n",
      "_________________________________________________________________\n",
      "lstm_1 (LSTM)                (None, 128)               131584    \n",
      "_________________________________________________________________\n",
      "dropout_1 (Dropout)          (None, 128)               0         \n",
      "_________________________________________________________________\n",
      "dense (Dense)                (None, 5)                 645       \n",
      "=================================================================\n",
      "Total params: 20,223,927\n",
      "Trainable params: 223,877\n",
      "Non-trainable params: 20,000,050\n",
      "_________________________________________________________________\n"
     ]
    }
   ],
   "source": [
    "max_len = 10\n",
    "\n",
    "model = Emojify_V2((max_len,), word_to_vec_map, word_to_index)\n",
    "model.summary()"
   ]
  },
  {
   "cell_type": "markdown",
   "metadata": {},
   "source": [
    "- Compile"
   ]
  },
  {
   "cell_type": "code",
   "execution_count": 22,
   "metadata": {},
   "outputs": [],
   "source": [
    "model.compile(loss='categorical_crossentropy', optimizer='adam', metrics=['accuracy'])"
   ]
  },
  {
   "cell_type": "markdown",
   "metadata": {},
   "source": [
    "- Train"
   ]
  },
  {
   "cell_type": "code",
   "execution_count": 23,
   "metadata": {
    "scrolled": true
   },
   "outputs": [
    {
     "name": "stdout",
     "output_type": "stream",
     "text": [
      "Train on 132 samples\n",
      "Epoch 1/50\n",
      "132/132 [==============================] - 2s 18ms/sample - loss: 1.5699 - accuracy: 0.2500\n",
      "Epoch 2/50\n",
      "132/132 [==============================] - 0s 2ms/sample - loss: 1.4931 - accuracy: 0.3106\n",
      "Epoch 3/50\n",
      "132/132 [==============================] - 0s 2ms/sample - loss: 1.4530 - accuracy: 0.3561\n",
      "Epoch 4/50\n",
      "132/132 [==============================] - 0s 2ms/sample - loss: 1.3960 - accuracy: 0.4015\n",
      "Epoch 5/50\n",
      "132/132 [==============================] - 0s 2ms/sample - loss: 1.2483 - accuracy: 0.5909\n",
      "Epoch 6/50\n",
      "132/132 [==============================] - 0s 2ms/sample - loss: 1.1495 - accuracy: 0.5379\n",
      "Epoch 7/50\n",
      "132/132 [==============================] - 0s 2ms/sample - loss: 1.0454 - accuracy: 0.6136\n",
      "Epoch 8/50\n",
      "132/132 [==============================] - 0s 2ms/sample - loss: 0.8815 - accuracy: 0.6667\n",
      "Epoch 9/50\n",
      "132/132 [==============================] - 0s 2ms/sample - loss: 0.7683 - accuracy: 0.7424\n",
      "Epoch 10/50\n",
      "132/132 [==============================] - 0s 2ms/sample - loss: 0.7309 - accuracy: 0.7727\n",
      "Epoch 11/50\n",
      "132/132 [==============================] - 0s 2ms/sample - loss: 0.7131 - accuracy: 0.7197\n",
      "Epoch 12/50\n",
      "132/132 [==============================] - 0s 2ms/sample - loss: 0.5149 - accuracy: 0.7955\n",
      "Epoch 13/50\n",
      "132/132 [==============================] - 0s 2ms/sample - loss: 0.7641 - accuracy: 0.7424\n",
      "Epoch 14/50\n",
      "132/132 [==============================] - 0s 2ms/sample - loss: 0.4765 - accuracy: 0.8409\n",
      "Epoch 15/50\n",
      "132/132 [==============================] - 0s 2ms/sample - loss: 0.4004 - accuracy: 0.8561\n",
      "Epoch 16/50\n",
      "132/132 [==============================] - 0s 2ms/sample - loss: 0.4898 - accuracy: 0.8258\n",
      "Epoch 17/50\n",
      "132/132 [==============================] - 0s 2ms/sample - loss: 0.4261 - accuracy: 0.8636\n",
      "Epoch 18/50\n",
      "132/132 [==============================] - 0s 2ms/sample - loss: 0.4186 - accuracy: 0.8182\n",
      "Epoch 19/50\n",
      "132/132 [==============================] - 0s 2ms/sample - loss: 0.3062 - accuracy: 0.9167\n",
      "Epoch 20/50\n",
      "132/132 [==============================] - 0s 2ms/sample - loss: 0.3302 - accuracy: 0.8788\n",
      "Epoch 21/50\n",
      "132/132 [==============================] - 0s 2ms/sample - loss: 0.2742 - accuracy: 0.9091\n",
      "Epoch 22/50\n",
      "132/132 [==============================] - 0s 2ms/sample - loss: 0.2721 - accuracy: 0.9318\n",
      "Epoch 23/50\n",
      "132/132 [==============================] - 0s 2ms/sample - loss: 0.2313 - accuracy: 0.9242\n",
      "Epoch 24/50\n",
      "132/132 [==============================] - 0s 2ms/sample - loss: 0.2311 - accuracy: 0.9318\n",
      "Epoch 25/50\n",
      "132/132 [==============================] - 0s 2ms/sample - loss: 0.1373 - accuracy: 0.9697\n",
      "Epoch 26/50\n",
      "132/132 [==============================] - 0s 2ms/sample - loss: 0.1870 - accuracy: 0.9318\n",
      "Epoch 27/50\n",
      "132/132 [==============================] - 0s 2ms/sample - loss: 0.1820 - accuracy: 0.9318\n",
      "Epoch 28/50\n",
      "132/132 [==============================] - 0s 2ms/sample - loss: 0.3255 - accuracy: 0.8939\n",
      "Epoch 29/50\n",
      "132/132 [==============================] - 0s 2ms/sample - loss: 0.2850 - accuracy: 0.9091\n",
      "Epoch 30/50\n",
      "132/132 [==============================] - 0s 2ms/sample - loss: 0.4896 - accuracy: 0.8636\n",
      "Epoch 31/50\n",
      "132/132 [==============================] - 0s 2ms/sample - loss: 0.3202 - accuracy: 0.8712\n",
      "Epoch 32/50\n",
      "132/132 [==============================] - 0s 2ms/sample - loss: 0.2276 - accuracy: 0.9091\n",
      "Epoch 33/50\n",
      "132/132 [==============================] - 0s 2ms/sample - loss: 0.1684 - accuracy: 0.9470\n",
      "Epoch 34/50\n",
      "132/132 [==============================] - 0s 2ms/sample - loss: 0.1500 - accuracy: 0.9470\n",
      "Epoch 35/50\n",
      "132/132 [==============================] - 0s 2ms/sample - loss: 0.1076 - accuracy: 0.9697\n",
      "Epoch 36/50\n",
      "132/132 [==============================] - 0s 2ms/sample - loss: 0.1181 - accuracy: 0.9545\n",
      "Epoch 37/50\n",
      "132/132 [==============================] - 0s 2ms/sample - loss: 0.0758 - accuracy: 0.9773\n",
      "Epoch 38/50\n",
      "132/132 [==============================] - 0s 2ms/sample - loss: 0.0807 - accuracy: 0.9848\n",
      "Epoch 39/50\n",
      "132/132 [==============================] - 0s 2ms/sample - loss: 0.0350 - accuracy: 0.9924\n",
      "Epoch 40/50\n",
      "132/132 [==============================] - 0s 2ms/sample - loss: 0.0462 - accuracy: 0.9924\n",
      "Epoch 41/50\n",
      "132/132 [==============================] - 0s 2ms/sample - loss: 0.0349 - accuracy: 0.9924\n",
      "Epoch 42/50\n",
      "132/132 [==============================] - 0s 2ms/sample - loss: 0.0436 - accuracy: 0.9848\n",
      "Epoch 43/50\n",
      "132/132 [==============================] - 0s 2ms/sample - loss: 0.0714 - accuracy: 0.9773\n",
      "Epoch 44/50\n",
      "132/132 [==============================] - 0s 2ms/sample - loss: 0.0492 - accuracy: 0.9848\n",
      "Epoch 45/50\n",
      "132/132 [==============================] - 0s 2ms/sample - loss: 0.0152 - accuracy: 0.9924\n",
      "Epoch 46/50\n",
      "132/132 [==============================] - 0s 2ms/sample - loss: 0.0573 - accuracy: 0.9697\n",
      "Epoch 47/50\n",
      "132/132 [==============================] - 0s 2ms/sample - loss: 0.0460 - accuracy: 0.9848\n",
      "Epoch 48/50\n",
      "132/132 [==============================] - 0s 2ms/sample - loss: 0.0148 - accuracy: 1.0000\n",
      "Epoch 49/50\n",
      "132/132 [==============================] - 0s 2ms/sample - loss: 0.0298 - accuracy: 0.9924\n",
      "Epoch 50/50\n",
      "132/132 [==============================] - 0s 2ms/sample - loss: 0.0450 - accuracy: 0.9848\n"
     ]
    },
    {
     "data": {
      "text/plain": [
       "<tensorflow.python.keras.callbacks.History at 0x7f2208379908>"
      ]
     },
     "execution_count": 23,
     "metadata": {},
     "output_type": "execute_result"
    }
   ],
   "source": [
    "X_train_indices = sentences_to_indices(X_train, word_to_index, max_len)\n",
    "y_train_1h = one_hot(y_train, C=5)\n",
    "\n",
    "model.fit(X_train_indices, y_train_1h, epochs=50, batch_size=32, shuffle=True)"
   ]
  },
  {
   "cell_type": "markdown",
   "metadata": {},
   "source": [
    "- Evaluation"
   ]
  },
  {
   "cell_type": "code",
   "execution_count": 24,
   "metadata": {},
   "outputs": [
    {
     "name": "stdout",
     "output_type": "stream",
     "text": [
      "56/1 [================================================================================================================================================================================================================================================================================================================================================================================================================================================================================================================================================================================================================================================================================================================================================================================================================================================================================================================================================================================================================================================================================================================================================================================================================================================================================================================================================================================================================================================================================================================================================================================================================================================================================================================================================] - 1s 11ms/sample - loss: 0.3568 - accuracy: 0.8571\n",
      "\n",
      "Test accuracy =  0.85714287\n"
     ]
    }
   ],
   "source": [
    "X_test_indices = sentences_to_indices(X_test, word_to_index, max_len)\n",
    "y_test_1h = one_hot(y_test, C = 5)\n",
    "loss, acc = model.evaluate(X_test_indices, y_test_1h)\n",
    "print()\n",
    "print(\"Test accuracy = \", acc)"
   ]
  }
 ],
 "metadata": {
  "kernelspec": {
   "display_name": "Python 3",
   "language": "python",
   "name": "python3"
  },
  "language_info": {
   "codemirror_mode": {
    "name": "ipython",
    "version": 3
   },
   "file_extension": ".py",
   "mimetype": "text/x-python",
   "name": "python",
   "nbconvert_exporter": "python",
   "pygments_lexer": "ipython3",
   "version": "3.7.3"
  }
 },
 "nbformat": 4,
 "nbformat_minor": 2
}
