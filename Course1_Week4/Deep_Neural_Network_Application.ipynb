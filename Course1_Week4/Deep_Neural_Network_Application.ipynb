{
 "cells": [
  {
   "cell_type": "markdown",
   "metadata": {},
   "source": [
    "# Setup"
   ]
  },
  {
   "cell_type": "code",
   "execution_count": 1,
   "metadata": {},
   "outputs": [],
   "source": [
    "import numpy as np\n",
    "import matplotlib.pyplot as plt\n",
    "import scipy\n",
    "import h5py\n",
    "import time\n",
    "\n",
    "from PIL import Image\n",
    "from scipy import ndimage\n",
    "\n",
    "%matplotlib inline\n",
    "plt.rcParams['image.interpolation'] = 'nearest'\n",
    "plt.rcParams['image.cmap'] = 'gray'\n",
    "\n",
    "np.random.seed(2019)"
   ]
  },
  {
   "cell_type": "markdown",
   "metadata": {},
   "source": [
    "# Helper Functions"
   ]
  },
  {
   "cell_type": "markdown",
   "metadata": {},
   "source": [
    "0. Dataset"
   ]
  },
  {
   "cell_type": "code",
   "execution_count": 2,
   "metadata": {},
   "outputs": [],
   "source": [
    "def load_data():\n",
    "    train_dataset = h5py.File('./datasets/train_catvnoncat.h5', \"r\")\n",
    "    train_set_x_orig = np.array(train_dataset[\"train_set_x\"][:]) # your train set features\n",
    "    train_set_y_orig = np.array(train_dataset[\"train_set_y\"][:]) # your train set labels\n",
    "\n",
    "    test_dataset = h5py.File('./datasets/test_catvnoncat.h5', \"r\")\n",
    "    test_set_x_orig = np.array(test_dataset[\"test_set_x\"][:]) # your test set features\n",
    "    test_set_y_orig = np.array(test_dataset[\"test_set_y\"][:]) # your test set labels\n",
    "\n",
    "    classes = np.array(test_dataset[\"list_classes\"][:]) # the list of classes\n",
    "    \n",
    "    train_set_y_orig = train_set_y_orig.reshape((1, train_set_y_orig.shape[0]))\n",
    "    test_set_y_orig = test_set_y_orig.reshape((1, test_set_y_orig.shape[0]))\n",
    "    \n",
    "    return train_set_x_orig, train_set_y_orig, test_set_x_orig, test_set_y_orig, classes"
   ]
  },
  {
   "cell_type": "markdown",
   "metadata": {},
   "source": [
    "1. Activation Functions"
   ]
  },
  {
   "cell_type": "code",
   "execution_count": 3,
   "metadata": {},
   "outputs": [],
   "source": [
    "def sigmoid(Z):\n",
    "    '''\n",
    "    Implement the sigmoid activation function\n",
    "    '''\n",
    "    \n",
    "    A = 1 / (1 + np.exp(-Z))\n",
    "    cache = Z\n",
    "    \n",
    "    return A, cache"
   ]
  },
  {
   "cell_type": "code",
   "execution_count": 4,
   "metadata": {},
   "outputs": [],
   "source": [
    "def relu(Z):\n",
    "    '''\n",
    "    Implement the ReLU activation function\n",
    "    '''\n",
    "    \n",
    "    A = np.maximum(0, Z)\n",
    "    cache = Z\n",
    "    \n",
    "    # Assertion\n",
    "    assert (A.shape == Z.shape)\n",
    "    \n",
    "    return A, cache"
   ]
  },
  {
   "cell_type": "markdown",
   "metadata": {},
   "source": [
    "2. Derivatives of Activation"
   ]
  },
  {
   "cell_type": "code",
   "execution_count": 5,
   "metadata": {},
   "outputs": [],
   "source": [
    "def sigmoid_backward(dA, cache):\n",
    "    '''\n",
    "    Implment the derivative dZ = dA * (dA/dZ) for sigmoid\n",
    "    '''\n",
    "    \n",
    "    Z = cache\n",
    "    \n",
    "    s = 1 / (1 + np.exp(-Z))\n",
    "    dZ = dA * s * (1 - s)\n",
    "    \n",
    "    # Assertion\n",
    "    assert (dZ.shape == Z.shape)\n",
    "    \n",
    "    return dZ"
   ]
  },
  {
   "cell_type": "code",
   "execution_count": 6,
   "metadata": {},
   "outputs": [],
   "source": [
    "def relu_backward(dA, cache):\n",
    "    '''\n",
    "    Implement the derivative dZ = dA * (dA/dZ) for ReLU\n",
    "    '''\n",
    "    \n",
    "    Z = cache\n",
    "    \n",
    "    dZ = np.array(dA, copy=True)\n",
    "    dZ[Z <= 0] = 0 ## when z <= 0, set dz = 0\n",
    "    \n",
    "    # Assertion\n",
    "    assert (dZ.shape == Z.shape)\n",
    "    \n",
    "    return dZ"
   ]
  },
  {
   "cell_type": "markdown",
   "metadata": {},
   "source": [
    "# Neural Network Blocks"
   ]
  },
  {
   "cell_type": "markdown",
   "metadata": {},
   "source": [
    "1. Initializaiton"
   ]
  },
  {
   "cell_type": "code",
   "execution_count": 7,
   "metadata": {},
   "outputs": [],
   "source": [
    "def initialize_params(layers_dims):\n",
    "    '''\n",
    "    layers_dims: python array (list), containing the dimensions of each layer \n",
    "                (including input layer)\n",
    "    '''\n",
    "    \n",
    "    #np.random.seed(2019)\n",
    "    params = {}\n",
    "    L = len(layers_dims) - 1  ## L = number of layers\n",
    "    \n",
    "    # Loop for l=1 to L\n",
    "    for l in range(1, L+1):\n",
    "        params['W' + str(l)] = np.random.randn(layers_dims[l], layers_dims[l-1]) / np.sqrt(layers_dims[l-1])\n",
    "        params['b' + str(l)] = np.zeros((layers_dims[l], 1))\n",
    "    \n",
    "        ## Assertion\n",
    "        assert (params['W' + str(l)].shape == (layers_dims[l], layers_dims[l-1]))\n",
    "        assert (params['b' + str(l)].shape == (layers_dims[l], 1))\n",
    "    \n",
    "    return params"
   ]
  },
  {
   "cell_type": "markdown",
   "metadata": {},
   "source": [
    "2. Forward Propagation"
   ]
  },
  {
   "cell_type": "code",
   "execution_count": 8,
   "metadata": {},
   "outputs": [],
   "source": [
    "def linear_forward(A_prev, W, b):\n",
    "    '''\n",
    "    Implement the linear step of forward propagation for a layer\n",
    "    '''\n",
    "    \n",
    "    # Compute Z\n",
    "    Z = np.dot(W, A_prev) + b\n",
    "    \n",
    "    # Assertion\n",
    "    assert (Z.shape == (W.shape[0], A_prev.shape[1]))\n",
    "    \n",
    "    # Store cache\n",
    "    cache = (A_prev, W, b)\n",
    "    \n",
    "    return Z, cache"
   ]
  },
  {
   "cell_type": "code",
   "execution_count": 9,
   "metadata": {},
   "outputs": [],
   "source": [
    "def linear_activation_forward(A_prev, W, b, activation):\n",
    "    '''\n",
    "    Implement the forward propagation for a LINEAR->ACTIVATION layer  \n",
    "    '''\n",
    "    \n",
    "    # For 'sigmoid'\n",
    "    if activation == 'sigmoid':\n",
    "        ## linear step\n",
    "        Z, linear_cache = linear_forward(A_prev, W, b)\n",
    "        ## activation step\n",
    "        A, activation_cache = sigmoid(Z)\n",
    "    \n",
    "    # For 'relu'\n",
    "    elif activation == 'relu':\n",
    "        ## linear step\n",
    "        Z, linear_cache = linear_forward(A_prev, W, b)\n",
    "        ## activation step\n",
    "        A, activation_cache = relu(Z)\n",
    "    \n",
    "    # Assertion\n",
    "    assert (A.shape == (W.shape[0], A_prev.shape[1]))\n",
    "    \n",
    "    # Forward propagation cache\n",
    "    cache = (linear_cache, activation_cache)\n",
    "    \n",
    "    return A, cache"
   ]
  },
  {
   "cell_type": "code",
   "execution_count": 10,
   "metadata": {},
   "outputs": [],
   "source": [
    "def L_model_forward(X, params):\n",
    "    '''\n",
    "    Implement the forward propagation for [LINEAR->RELU]*(L-1)->LINEAR->SIGMOID layers \n",
    "    '''\n",
    "    \n",
    "    # Initialization\n",
    "    caches = []\n",
    "    A = X\n",
    "    L = len(params) // 2  ## number of layers\n",
    "    \n",
    "    # Implement [LINEAR->RELU]*(L-1); Add cache to \"caches\" list\n",
    "    for l in range(1, L):\n",
    "        A_prev = A\n",
    "        A, cache = linear_activation_forward(A_prev, params['W' + str(l)], params['b' + str(l)], activation='relu')\n",
    "        caches.append(cache)\n",
    "    \n",
    "    # Implement LINEAR->SIGMOID; Add cache to \"caches\" list\n",
    "    AL, cache = linear_activation_forward(A, params['W' + str(L)], params['b' + str(L)], activation='sigmoid')\n",
    "    caches.append(cache)\n",
    "    \n",
    "    # Assertion\n",
    "    assert (AL.shape == (1, X.shape[1]))\n",
    "    \n",
    "    return AL, caches"
   ]
  },
  {
   "cell_type": "markdown",
   "metadata": {},
   "source": [
    "3. Cost Function"
   ]
  },
  {
   "cell_type": "code",
   "execution_count": 11,
   "metadata": {},
   "outputs": [],
   "source": [
    "def compute_cost(AL, Y):\n",
    "    '''\n",
    "    Compute cost function: cross-entropy\n",
    "    '''\n",
    "    \n",
    "    # Compute cost\n",
    "    m = Y.shape[1]\n",
    "    cost = -1. / m * (np.dot(Y, np.log(AL).T) + np.dot(1 - Y, np.log(1 - AL).T))\n",
    "    cost = np.squeeze(cost)  ## to make sure the cost is real number e.g. turns [[17]] into 17\n",
    "    \n",
    "    # Assertion\n",
    "    assert (cost.shape == ())\n",
    "    \n",
    "    return cost"
   ]
  },
  {
   "cell_type": "markdown",
   "metadata": {},
   "source": [
    "4. Backward Propagation"
   ]
  },
  {
   "cell_type": "code",
   "execution_count": 12,
   "metadata": {},
   "outputs": [],
   "source": [
    "def activation_backward(dA, cache, activation):\n",
    "    '''\n",
    "    Implement the activation part for the backward propagation\n",
    "    '''\n",
    "    \n",
    "    # For 'sigmoid'\n",
    "    if activation == 'sigmoid':\n",
    "        dZ = sigmoid_backward(dA, cache)\n",
    "    \n",
    "    # For 'relu'\n",
    "    elif activation == 'relu':\n",
    "        dZ = relu_backward(dA, cache)\n",
    "    \n",
    "    return dZ"
   ]
  },
  {
   "cell_type": "code",
   "execution_count": 13,
   "metadata": {},
   "outputs": [],
   "source": [
    "def linear_activation_backward(dA, cache, activation):\n",
    "    '''\n",
    "    Implement the backward propagation for a LINEAR->ACTIVATION layer\n",
    "    '''\n",
    "    \n",
    "    # Initialization\n",
    "    linear_cache, activation_cache = cache\n",
    "    A_prev, W, b = linear_cache\n",
    "    m = A_prev.shape[1]\n",
    "    \n",
    "    # Compute gradients\n",
    "    dZ = activation_backward(dA, activation_cache, activation)\n",
    "    dW = 1. / m * np.dot(dZ, A_prev.T)\n",
    "    db = 1. / m * np.sum(dZ, axis=1, keepdims=True)\n",
    "    dA_prev = np.dot(W.T, dZ)\n",
    "    \n",
    "    # Assertion\n",
    "    assert (dA_prev.shape == A_prev.shape)\n",
    "    assert (dW.shape == W.shape)\n",
    "    assert (db.shape == b.shape)\n",
    "    \n",
    "    return dA_prev, dW, db"
   ]
  },
  {
   "cell_type": "code",
   "execution_count": 14,
   "metadata": {},
   "outputs": [],
   "source": [
    "def L_model_backward(AL, Y, caches):\n",
    "    '''\n",
    "    Implement the backward propagation for [LINEAR->RELU]*(L-1)->LINEAR->SIGMOID layers \n",
    "    '''\n",
    "    \n",
    "    # Initialization\n",
    "    grads = {}\n",
    "    m = Y.shape[1]\n",
    "    L = len(caches)  ## number of layers\n",
    "    dAL = - np.divide(Y, AL) + np.divide(1 - Y, 1 - AL)  ## compute dAL initial\n",
    "    \n",
    "    # Implement SIGMOID->LINEAR (Lth layer); Add gradients to \"grads\" dictionary\n",
    "    cache = caches[L-1]\n",
    "    grads['dA' + str(L-1)], grads['dW' + str(L)], grads['db' + str(L)] = linear_activation_backward(dAL, cache, activation='sigmoid')\n",
    "    \n",
    "    # Implement [RELU->LINEAR]*(L-1); Add gradients to \"grads\" dictionary\n",
    "    for l in reversed(range(L-1)):\n",
    "        cache = caches[l]\n",
    "        grads['dA' + str(l)], grads['dW' + str(l+1)], grads['db' + str(l+1)] = linear_activation_backward(grads[\"dA\" + str(l+1)], cache, activation='relu')\n",
    "    \n",
    "    return grads"
   ]
  },
  {
   "cell_type": "markdown",
   "metadata": {},
   "source": [
    "5. Update Parameters: Gradient Descent"
   ]
  },
  {
   "cell_type": "code",
   "execution_count": 15,
   "metadata": {},
   "outputs": [],
   "source": [
    "def update_params(params, grads, lr):\n",
    "    '''\n",
    "    Implement Gradient Descent step to update parameters\n",
    "    '''\n",
    "    \n",
    "    L = len(params) // 2  ## number of layers\n",
    "    \n",
    "    for l in range(L):\n",
    "        params['W' + str(l+1)] = params['W' + str(l+1)] - lr * grads['dW' + str(l+1)]\n",
    "        params['b' + str(l+1)] = params['b' + str(l+1)] - lr * grads['db' + str(l+1)]\n",
    "    \n",
    "    return params"
   ]
  },
  {
   "cell_type": "markdown",
   "metadata": {},
   "source": [
    "6. Prediction"
   ]
  },
  {
   "cell_type": "code",
   "execution_count": 16,
   "metadata": {},
   "outputs": [],
   "source": [
    "def predict(X, Y, params):\n",
    "    # Initialization\n",
    "    m = X.shape[1]\n",
    "    \n",
    "    # Forward propagation\n",
    "    probas, caches = L_model_forward(X, params)\n",
    "    \n",
    "    # Convert probas to 0/1 predictions\n",
    "    p = (probas > 0.5).astype(int)\n",
    "    \n",
    "    # Print accuracy\n",
    "    print('Accuracy: ' + str(np.sum(p == Y) / m))\n",
    "    \n",
    "    return p"
   ]
  },
  {
   "cell_type": "markdown",
   "metadata": {},
   "source": [
    "# Application\n",
    "## Overview of the Data\n",
    "- Load Data"
   ]
  },
  {
   "cell_type": "code",
   "execution_count": 17,
   "metadata": {},
   "outputs": [],
   "source": [
    "train_x_orig, train_y, test_x_orig, test_y, classes = load_data()"
   ]
  },
  {
   "cell_type": "markdown",
   "metadata": {},
   "source": [
    "- Overview"
   ]
  },
  {
   "cell_type": "code",
   "execution_count": 18,
   "metadata": {},
   "outputs": [
    {
     "data": {
      "text/plain": [
       "((209, 64, 64, 3), (50, 64, 64, 3))"
      ]
     },
     "execution_count": 18,
     "metadata": {},
     "output_type": "execute_result"
    }
   ],
   "source": [
    "train_x_orig.shape, test_x_orig.shape"
   ]
  },
  {
   "cell_type": "code",
   "execution_count": 19,
   "metadata": {},
   "outputs": [
    {
     "data": {
      "text/plain": [
       "((1, 209), (1, 50))"
      ]
     },
     "execution_count": 19,
     "metadata": {},
     "output_type": "execute_result"
    }
   ],
   "source": [
    "train_y.shape, test_y.shape"
   ]
  },
  {
   "cell_type": "code",
   "execution_count": 20,
   "metadata": {},
   "outputs": [
    {
     "data": {
      "text/plain": [
       "array([b'non-cat', b'cat'], dtype='|S7')"
      ]
     },
     "execution_count": 20,
     "metadata": {},
     "output_type": "execute_result"
    }
   ],
   "source": [
    "classes"
   ]
  },
  {
   "cell_type": "markdown",
   "metadata": {},
   "source": [
    "- Example"
   ]
  },
  {
   "cell_type": "code",
   "execution_count": 21,
   "metadata": {},
   "outputs": [
    {
     "name": "stdout",
     "output_type": "stream",
     "text": [
      "y = 1. It's a cat picture.\n"
     ]
    },
    {
     "data": {
      "image/png": "[encoded data removed]",
      "text/plain": [
       "<Figure size 432x288 with 1 Axes>"
      ]
     },
     "metadata": {
      "needs_background": "light"
     },
     "output_type": "display_data"
    }
   ],
   "source": [
    "index = 42\n",
    "plt.imshow(train_x_orig[index])\n",
    "print (\"y = \" + str(train_y[0,index]) + \". It's a \" + classes[train_y[0,index]].decode(\"utf-8\") +  \" picture.\")"
   ]
  },
  {
   "cell_type": "markdown",
   "metadata": {},
   "source": [
    "## Preprocessing"
   ]
  },
  {
   "cell_type": "markdown",
   "metadata": {},
   "source": [
    "1. Unrolling and Stacking instances in columns"
   ]
  },
  {
   "cell_type": "code",
   "execution_count": 22,
   "metadata": {},
   "outputs": [],
   "source": [
    "m_train = train_x_orig.shape[0]\n",
    "m_test = test_x_orig.shape[0]"
   ]
  },
  {
   "cell_type": "code",
   "execution_count": 23,
   "metadata": {},
   "outputs": [],
   "source": [
    "train_x_flatten = train_x_orig.reshape(m_train, -1).T\n",
    "test_x_flatten = test_x_orig.reshape(m_test, -1).T"
   ]
  },
  {
   "cell_type": "markdown",
   "metadata": {},
   "source": [
    "2. Standardization"
   ]
  },
  {
   "cell_type": "code",
   "execution_count": 24,
   "metadata": {},
   "outputs": [],
   "source": [
    "train_x = train_x_flatten / 255.\n",
    "test_x = test_x_flatten / 255."
   ]
  },
  {
   "cell_type": "markdown",
   "metadata": {},
   "source": [
    "## 2-layer Neural Network"
   ]
  },
  {
   "cell_type": "code",
   "execution_count": 25,
   "metadata": {},
   "outputs": [],
   "source": [
    "# Initialization\n",
    "n_x = train_x.shape[0]\n",
    "n_h = 7\n",
    "n_y = 1\n",
    "layers_dims = (n_x, n_h, n_y)"
   ]
  },
  {
   "cell_type": "code",
   "execution_count": 26,
   "metadata": {},
   "outputs": [],
   "source": [
    "def two_layer_model(X, Y, layers_dims, lr=0.0075, epochs=3000, print_cost=False):\n",
    "    # Initialzation\n",
    "    np.random.seed(2019)\n",
    "    grads = {}\n",
    "    costs = []\n",
    "    m = X.shape[1]\n",
    "    \n",
    "    # Initialize parameters\n",
    "    params = initialize_params(layers_dims)\n",
    "    \n",
    "    W1 = params[\"W1\"]\n",
    "    b1 = params[\"b1\"]\n",
    "    W2 = params[\"W2\"]\n",
    "    b2 = params[\"b2\"]\n",
    "    \n",
    "    # Loop\n",
    "    for i in range(epochs):\n",
    "        \n",
    "        # Foward propagation\n",
    "        A1, cache1 = linear_activation_forward(X, W1, b1, activation='relu')\n",
    "        A2, cache2 = linear_activation_forward(A1, W2, b2, activation='sigmoid')\n",
    "        \n",
    "        # Cost function\n",
    "        cost = compute_cost(A2, Y)\n",
    "        \n",
    "        # Initialization for backward propagation\n",
    "        dA2 = - (np.divide(Y, A2) - np.divide(1 - Y, 1 - A2))\n",
    "        \n",
    "        # Backward propagation\n",
    "        dA1, dW2, db2 = linear_activation_backward(dA2, cache2, activation='sigmoid')\n",
    "        dA0, dW1, db1 = linear_activation_backward(dA1, cache1, activation='relu')\n",
    "        \n",
    "        grads['dW1'] = dW1\n",
    "        grads['db1'] = db1\n",
    "        grads['dW2'] = dW2\n",
    "        grads['db2'] = db2\n",
    "        \n",
    "        # Update parameters\n",
    "        params = update_params(params, grads, lr)\n",
    "        \n",
    "        W1 = params[\"W1\"]\n",
    "        b1 = params[\"b1\"]\n",
    "        W2 = params[\"W2\"]\n",
    "        b2 = params[\"b2\"]\n",
    "        \n",
    "        # Print the cost every 100 iterations\n",
    "        if print_cost and i % 100 == 0:\n",
    "            costs.append(cost)\n",
    "            print(\"Cost after iteration {}: {}\".format(i, cost))\n",
    "    \n",
    "    # Plot the costs vs iterations\n",
    "    plt.plot(costs)\n",
    "    plt.ylabel('cost')\n",
    "    plt.xlabel('iterations (per hundreds)')\n",
    "    plt.title('Learning rate = ' + str(lr))\n",
    "    plt.show()\n",
    "    \n",
    "    return params"
   ]
  },
  {
   "cell_type": "code",
   "execution_count": 27,
   "metadata": {},
   "outputs": [
    {
     "name": "stdout",
     "output_type": "stream",
     "text": [
      "Cost after iteration 0: 0.6937692479861585\n",
      "Cost after iteration 100: 0.5308767256352307\n",
      "Cost after iteration 200: 0.43550322575893313\n",
      "Cost after iteration 300: 0.3814091967146973\n",
      "Cost after iteration 400: 0.3257074331071684\n",
      "Cost after iteration 500: 0.26945856520526135\n",
      "Cost after iteration 600: 0.2370774358691404\n",
      "Cost after iteration 700: 0.17924593161862146\n",
      "Cost after iteration 800: 0.12591570374569735\n",
      "Cost after iteration 900: 0.10711841750156322\n",
      "Cost after iteration 1000: 0.08637288882331938\n",
      "Cost after iteration 1100: 0.07084538425864784\n",
      "Cost after iteration 1200: 0.06066615562808675\n",
      "Cost after iteration 1300: 0.05175426826922089\n",
      "Cost after iteration 1400: 0.04505107935175396\n",
      "Cost after iteration 1500: 0.039637095241411235\n",
      "Cost after iteration 1600: 0.03516998992587707\n",
      "Cost after iteration 1700: 0.03142948833179869\n",
      "Cost after iteration 1800: 0.028304157878345452\n",
      "Cost after iteration 1900: 0.025649095618475486\n",
      "Cost after iteration 2000: 0.02337521110807613\n",
      "Cost after iteration 2100: 0.02142097728801822\n",
      "Cost after iteration 2200: 0.01972091159267376\n",
      "Cost after iteration 2300: 0.018229641858961997\n",
      "Cost after iteration 2400: 0.016923713056157287\n"
     ]
    },
    {
     "data": {
      "image/png": "[encoded data removed]",
      "text/plain": [
       "<Figure size 432x288 with 1 Axes>"
      ]
     },
     "metadata": {
      "needs_background": "light"
     },
     "output_type": "display_data"
    }
   ],
   "source": [
    "# Train 2-layer model\n",
    "params_2 = two_layer_model(train_x, train_y, layers_dims, epochs=2500, print_cost=True)"
   ]
  },
  {
   "cell_type": "code",
   "execution_count": 28,
   "metadata": {},
   "outputs": [
    {
     "name": "stdout",
     "output_type": "stream",
     "text": [
      "Accuracy: 1.0\n"
     ]
    }
   ],
   "source": [
    "# Predictions for training set\n",
    "pred_train_2 = predict(train_x, train_y, params_2)"
   ]
  },
  {
   "cell_type": "code",
   "execution_count": 29,
   "metadata": {},
   "outputs": [
    {
     "name": "stdout",
     "output_type": "stream",
     "text": [
      "Accuracy: 0.76\n"
     ]
    }
   ],
   "source": [
    "# Preditcions for test set\n",
    "pred_test_2 = predict(test_x, test_y, params_2)"
   ]
  },
  {
   "cell_type": "markdown",
   "metadata": {},
   "source": [
    "## L-layer Neural Network"
   ]
  },
  {
   "cell_type": "code",
   "execution_count": 30,
   "metadata": {},
   "outputs": [],
   "source": [
    "# Initialization\n",
    "layers_dims = (train_x.shape[0], 20, 7, 5, 1)  ## 4-layer model"
   ]
  },
  {
   "cell_type": "code",
   "execution_count": 31,
   "metadata": {},
   "outputs": [],
   "source": [
    "def L_layer_model(X, Y, layers_dims, lr=0.0075, epochs=3000, print_cost=False):\n",
    "    # Initialization\n",
    "    np.random.seed(2019)\n",
    "    costs = []\n",
    "    \n",
    "    # Initialize parameters\n",
    "    params = initialize_params(layers_dims)\n",
    "    \n",
    "    # Loop\n",
    "    for i in range(epochs):\n",
    "        # Forward propagation\n",
    "        AL, caches = L_model_forward(X, params)\n",
    "        \n",
    "        # Cost function\n",
    "        cost = compute_cost(AL, Y)\n",
    "        \n",
    "        # Backward propagation\n",
    "        grads = L_model_backward(AL, Y, caches)\n",
    "        \n",
    "        # Update parameters\n",
    "        params = update_params(params, grads, lr)\n",
    "        \n",
    "        # Print the cost every 100 iterations\n",
    "        if print_cost and i % 100 == 0:\n",
    "            costs.append(cost)\n",
    "            print(\"Cost after iteration {}: {}\".format(i, cost))\n",
    "    \n",
    "    # Plot the costs vs iterations\n",
    "    plt.plot(costs)\n",
    "    plt.ylabel('cost')\n",
    "    plt.xlabel('iterations (per hundreds)')\n",
    "    plt.title(\"Learning rate =\" + str(lr))\n",
    "    plt.show()\n",
    "    \n",
    "    return params"
   ]
  },
  {
   "cell_type": "code",
   "execution_count": 34,
   "metadata": {
    "scrolled": false
   },
   "outputs": [
    {
     "name": "stdout",
     "output_type": "stream",
     "text": [
      "Cost after iteration 0: 0.6933663129300723\n",
      "Cost after iteration 100: 0.6065552407924525\n",
      "Cost after iteration 200: 0.5481601219779865\n",
      "Cost after iteration 300: 0.4840318903695298\n",
      "Cost after iteration 400: 0.45038393372714874\n",
      "Cost after iteration 500: 0.39196079732654\n",
      "Cost after iteration 600: 0.3380100980102377\n",
      "Cost after iteration 700: 0.25128622025791314\n",
      "Cost after iteration 800: 0.17888634503695822\n",
      "Cost after iteration 900: 0.12833913750000772\n",
      "Cost after iteration 1000: 0.07617339973796591\n",
      "Cost after iteration 1100: 0.038091754947786396\n",
      "Cost after iteration 1200: 0.02546666680739256\n",
      "Cost after iteration 1300: 0.018722541461427274\n",
      "Cost after iteration 1400: 0.014433759683774087\n",
      "Cost after iteration 1500: 0.011529330250764074\n",
      "Cost after iteration 1600: 0.009473239540779261\n",
      "Cost after iteration 1700: 0.007958011273692387\n",
      "Cost after iteration 1800: 0.006807420197075814\n",
      "Cost after iteration 1900: 0.0059087753162281285\n",
      "Cost after iteration 2000: 0.005189373737518614\n",
      "Cost after iteration 2100: 0.004609172238316476\n",
      "Cost after iteration 2200: 0.004129358642069567\n",
      "Cost after iteration 2300: 0.0037305930408020184\n",
      "Cost after iteration 2400: 0.0033917351666865846\n"
     ]
    },
    {
     "data": {
      "image/png": "[encoded data removed]",
      "text/plain": [
       "<Figure size 432x288 with 1 Axes>"
      ]
     },
     "metadata": {
      "needs_background": "light"
     },
     "output_type": "display_data"
    }
   ],
   "source": [
    "# Train L-layer model\n",
    "params_L = L_layer_model(train_x, train_y, layers_dims, epochs=2500, print_cost=True)"
   ]
  },
  {
   "cell_type": "code",
   "execution_count": 35,
   "metadata": {},
   "outputs": [
    {
     "name": "stdout",
     "output_type": "stream",
     "text": [
      "Accuracy: 1.0\n"
     ]
    }
   ],
   "source": [
    "# Predictions for training set\n",
    "pred_train_L = predict(train_x, train_y, params_L)"
   ]
  },
  {
   "cell_type": "code",
   "execution_count": 36,
   "metadata": {},
   "outputs": [
    {
     "name": "stdout",
     "output_type": "stream",
     "text": [
      "Accuracy: 0.78\n"
     ]
    }
   ],
   "source": [
    "# Predictions for test set\n",
    "pred_test_L = predict(test_x, test_y, params_L)"
   ]
  }
 ],
 "metadata": {
  "kernelspec": {
   "display_name": "Python 3",
   "language": "python",
   "name": "python3"
  },
  "language_info": {
   "codemirror_mode": {
    "name": "ipython",
    "version": 3
   },
   "file_extension": ".py",
   "mimetype": "text/x-python",
   "name": "python",
   "nbconvert_exporter": "python",
   "pygments_lexer": "ipython3",
   "version": "3.7.3"
  },
  "toc": {
   "base_numbering": 1,
   "nav_menu": {},
   "number_sections": false,
   "sideBar": true,
   "skip_h1_title": false,
   "title_cell": "Table of Contents",
   "title_sidebar": "Contents",
   "toc_cell": false,
   "toc_position": {},
   "toc_section_display": true,
   "toc_window_display": false
  }
 },
 "nbformat": 4,
 "nbformat_minor": 2
}
