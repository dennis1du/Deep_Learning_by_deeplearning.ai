{
 "cells": [
  {
   "cell_type": "markdown",
   "metadata": {},
   "source": [
    "# Setup"
   ]
  },
  {
   "cell_type": "code",
   "execution_count": 1,
   "metadata": {},
   "outputs": [],
   "source": [
    "import numpy as np\n",
    "import tensorflow as tf\n",
    "import tensorflow.keras.backend as K\n",
    "\n",
    "from tqdm import tqdm\n",
    "from faker import Faker\n",
    "from babel.dates import format_date\n",
    "import random\n",
    "\n",
    "import matplotlib.pyplot as plt\n",
    "%matplotlib inline"
   ]
  },
  {
   "cell_type": "code",
   "execution_count": 2,
   "metadata": {},
   "outputs": [],
   "source": [
    "# load helper functions\n",
    "import sys\n",
    "sys.path.append('.')\n",
    "from nmt_utils import *"
   ]
  },
  {
   "cell_type": "code",
   "execution_count": 3,
   "metadata": {},
   "outputs": [],
   "source": [
    "def softmax(x, axis=1):\n",
    "    \"\"\"\n",
    "    Softmax activation function\n",
    "    \n",
    "    Arguments:\n",
    "        --x : tensor\n",
    "        --axis: integer, axis along which the softmax normalization is applied\n",
    "    \n",
    "    Returns:\n",
    "    tensor, output of softmax transformation\n",
    "    \n",
    "    Raises:\n",
    "    ValueError: in case `dim(x) == 1`\n",
    "    \"\"\"\n",
    "    ndim = K.ndim(x)\n",
    "    if ndim == 2:\n",
    "        return K.softmax(x)\n",
    "    elif ndim > 2:\n",
    "        e = K.exp(x - K.max(x, axis=axis, keepdims=True))\n",
    "        s = K.sum(e, axis=axis, keepdims=True)\n",
    "        return e / s\n",
    "    else:\n",
    "        raise ValueError('Cannot apply softmax to a tensor that is 1D')"
   ]
  },
  {
   "cell_type": "markdown",
   "metadata": {},
   "source": [
    "# Data\n",
    "- `dataset`: a list of tuples of (human readable date, machine readable date).\n",
    "- `human_vocab`: a python dictionary mapping all characters used in the human readable dates to an integer-valued index.\n",
    "- `machine_vocab`: a python dictionary mapping all characters used in machine readable dates to an integer-valued index. \n",
    "    - **Note**: These indices are not necessarily consistent with `human_vocab`. \n",
    "- `inv_machine_vocab`: the inverse dictionary of `machine_vocab`, mapping from indices back to characters. "
   ]
  },
  {
   "cell_type": "markdown",
   "metadata": {},
   "source": [
    "## Load data"
   ]
  },
  {
   "cell_type": "code",
   "execution_count": 4,
   "metadata": {},
   "outputs": [
    {
     "name": "stderr",
     "output_type": "stream",
     "text": [
      "100%|██████████| 10000/10000 [01:25<00:00, 116.53it/s]\n"
     ]
    }
   ],
   "source": [
    "m = 10000\n",
    "dataset, human_vocab, machine_vocab, inv_machine_vocab = load_dataset(m)"
   ]
  },
  {
   "cell_type": "markdown",
   "metadata": {},
   "source": [
    "- Overview"
   ]
  },
  {
   "cell_type": "code",
   "execution_count": 5,
   "metadata": {},
   "outputs": [
    {
     "data": {
      "text/plain": [
       "[('9 may 1998', '1998-05-09'),\n",
       " ('10.11.19', '2019-11-10'),\n",
       " ('9/10/70', '1970-09-10'),\n",
       " ('saturday april 28 1990', '1990-04-28'),\n",
       " ('thursday january 26 1995', '1995-01-26'),\n",
       " ('monday march 7 1983', '1983-03-07'),\n",
       " ('sunday may 22 1988', '1988-05-22'),\n",
       " ('08 jul 2008', '2008-07-08'),\n",
       " ('8 sep 1999', '1999-09-08'),\n",
       " ('thursday january 1 1981', '1981-01-01')]"
      ]
     },
     "execution_count": 5,
     "metadata": {},
     "output_type": "execute_result"
    }
   ],
   "source": [
    "dataset[:10]"
   ]
  },
  {
   "cell_type": "markdown",
   "metadata": {},
   "source": [
    "## Preprocess\n",
    "- map the raw text data into the index values. \n",
    "    - set Tx=30 \n",
    "        - We assume Tx is the maximum length of the human readable date.\n",
    "        - If input is longer than Tx: truncate it; if input is shorter than Tx: pad it\n",
    "    - set Ty=10\n",
    "        - \"YYYY-MM-DD\" is 10 characters long.\n",
    "- processed data\n",
    "    - `X`: a processed version of the human readable dates in the training set\n",
    "        - Each character in X is replaced by an index (integer) mapped to the character using `human_vocab`\n",
    "        - Each date is padded to ensure a length of $T_x$ using a special character (< pad >)\n",
    "        - shape = (m, Tx), where m is the number of training examples in a batch\n",
    "    - `y`: a processed version of the machine readable dates in the training set\n",
    "        - Each character is replaced by the index (integer) it is mapped to in `machine_vocab` \n",
    "        - shape = (m, Ty)\n",
    "    - `X_1h`: one-hot version of X\n",
    "        - Each index in X_1h is converted to the one-hot representation\n",
    "        - shape = (m, Tx, len(human_vocab))\n",
    "    - `y_1h`: one-hot version of Y\n",
    "        - Each index in y_1h is converted to the one-hot representation\n",
    "        - shape = (m, Tx, len(machine_vocab)) \n",
    "        - len(machine_vocab) = 11 since there are 10 numeric digits (0 to 9) and the `-` symbol"
   ]
  },
  {
   "cell_type": "code",
   "execution_count": 6,
   "metadata": {},
   "outputs": [
    {
     "name": "stdout",
     "output_type": "stream",
     "text": [
      "X.shape: (10000, 30)\n",
      "y.shape: (10000, 10)\n",
      "X_1h.shape: (10000, 30, 37)\n",
      "y_1h.shape: (10000, 10, 11)\n"
     ]
    }
   ],
   "source": [
    "Tx = 30\n",
    "Ty = 10\n",
    "\n",
    "X, y, X_1h, y_1h = preprocess_data(dataset, human_vocab, machine_vocab, Tx, Ty)\n",
    "\n",
    "print(\"X.shape:\", X.shape)\n",
    "print(\"y.shape:\", y.shape)\n",
    "print(\"X_1h.shape:\", X_1h.shape)\n",
    "print(\"y_1h.shape:\", y_1h.shape)"
   ]
  },
  {
   "cell_type": "markdown",
   "metadata": {},
   "source": [
    "# Neural Machine Translation with Attention\n",
    "## Attention mechanism\n",
    "- One-step attention function\n",
    "    - compute the attention weights/variables $\\alpha^{\\langle t, t' \\rangle}$\n",
    "    - use $\\alpha^{\\langle t, t' \\rangle}$ to compute context variable $context^{\\langle t \\rangle}$ for each time-step as the input of the post-attention LSTM networks\n",
    "\n",
    "## Pre-attention and Post-attention LSTMs\n",
    "- There are two separate LSTMs in the model: pre-attention and post-attention LSTMs\n",
    "- Pre-attention Bi-LSTM:\n",
    "    - the pre-attention Bi-LSTMs comes before the attention mechanism \n",
    "    - the pre-attention Bi-LSTMs goes through $T_x$ time-steps\n",
    "    - Inputs: $x^{\\langle t' \\rangle}$\n",
    "    - Outputs: $a^{\\langle t' \\rangle} = [\\overrightarrow{a}^{\\langle t' \\rangle}, \\overleftarrow{a}^{\\langle t' \\rangle}]$, concatenation of the hidden states of both forward-direction and backward-direction\n",
    "- Post-attention LSTM:\n",
    "    - the post-attention LSTMs comes after the attention mechanism\n",
    "    - the post-attention LSTMs goes through $T_y$ time-steps\n",
    "    - the post-attention LSTMs passes the hidden state $s^{\\langle t \\rangle}$ and cell state $c^{\\langle t \\rangle}$\n",
    "    - Inputs: $context^{\\langle t \\rangle}$, which is determined by $a^{\\langle t' \\rangle}$ and $s^{\\langle t-1 \\rangle}$\n",
    "    - Outputs: $y^{\\langle t \\rangle}$\n",
    "- Note\n",
    "    - in this model, the post-attention LSTM at time $t$ does not take the previous time step's prediction $y^{\\langle t-1 \\rangle}$ as input\n",
    "    - the post-attention LSTM at time 't' only takes the hidden state $s^{\\langle t \\rangle}$ and cell state $c^{\\langle t\\rangle}$ as input \n",
    "    - we have designed the model this way because unlike language generation (where adjacent characters are highly correlated) there isn't as strong a dependency between the previous character and the next character in a YYYY-MM-DD date\n",
    "\n",
    "## Compute \"energies\" $e^{\\langle t, t' \\rangle}$\n",
    "- \"energies\" variable $e^{\\langle t, t' \\rangle}$ is computed as a function of $s^{\\langle t-1 \\rangle}$ and $a^{\\langle t' \\rangle}$\n",
    "    - $s^{\\langle t-1 \\rangle}$ is the hidden state of the post-attention LSTM\n",
    "    - $a^{\\langle t' \\rangle}$ is the hidden state of the pre-attention LSTM\n",
    "- $s^{\\langle t \\rangle}$ and $a^{\\langle t \\rangle}$ are fed into a simple neural network, which learns the function to output $e^{\\langle t, t' \\rangle}$\n",
    "- $e^{\\langle t, t' \\rangle}$ is then used when computing the attention $\\alpha^{\\langle t, t' \\rangle}$ that $y^{\\langle t \\rangle}$ should pay to $a^{\\langle t' \\rangle}$ (i.e. $x^{\\langle t' \\rangle}$)"
   ]
  },
  {
   "cell_type": "markdown",
   "metadata": {},
   "source": [
    "**one_step_attention()**\n",
    "- since the `model()` will call the layers in `one_step_attention()` Ty times, it's important that all Ty copies have the same weights"
   ]
  },
  {
   "cell_type": "code",
   "execution_count": 7,
   "metadata": {},
   "outputs": [],
   "source": [
    "# Define shared layers as global variables\n",
    "## RepeatVector()\n",
    "repeator = tf.keras.layers.RepeatVector(n=Tx)\n",
    "\n",
    "## Concatenate()\n",
    "concatenator = tf.keras.layers.Concatenate(axis=-1)\n",
    "\n",
    "## Dense()\n",
    "densor1 = tf.keras.layers.Dense(units=10, activation='tanh')  ### compute \"intermediate energies\" variables\n",
    "densor2 = tf.keras.layers.Dense(units=1, activation='relu')   ### compute \"energies\" variables \n",
    "\n",
    "## Activation()\n",
    "activator = tf.keras.layers.Activation(softmax, name='attention_weights')\n",
    "\n",
    "## Dot()\n",
    "dotor = tf.keras.layers.Dot(axes=1)"
   ]
  },
  {
   "cell_type": "code",
   "execution_count": 8,
   "metadata": {},
   "outputs": [],
   "source": [
    "def one_step_attention(a, s_prev):\n",
    "    '''\n",
    "    Implement one step for attention: compute the context vector (computed as the dot product of \n",
    "    the attention weights variable \"alpha\" and the hidden states \"a\" of the pre-attention Bi-LSTM)\n",
    "    \n",
    "    Arguments:\n",
    "        --a: numpy array of shape (m, Tx, 2*n_a), hidden states output of the pre-attention Bi-LSTM\n",
    "        --s_prev: numpy array of shape (m, n_s), previous hidden state of the post-attention LSTM\n",
    "    \n",
    "    Returns:\n",
    "    context: context vector, input for the post-attention LSTM cell\n",
    "    '''\n",
    "    \n",
    "    # Use repeator to repeat s_prev to shape (m, Tx, n_s) so that we can concatenate it with all hidden states \"a\"\n",
    "    s_prev = repeator(s_prev)\n",
    "    \n",
    "    # Use concatenator to concatenate a and s_prev on the last axis\n",
    "    concat = concatenator([a, s_prev])\n",
    "    \n",
    "    # Use densor1 to propagate concat through a small fully-connected neural network to compute \"intermediate energies\" variable e\n",
    "    e = densor1(concat)\n",
    "    \n",
    "    # Use densor2 to propagate e through a small fully-connected neural network to compute \"energies\" variable\n",
    "    energies = densor2(e)\n",
    "    \n",
    "    # Use activator on energies to compute the attention weights \"alpha\"\n",
    "    alpha = activator(energies)\n",
    "    \n",
    "    # Use dotor together with a and alpha to compute the context vector\n",
    "    context = dotor([alpha, a])\n",
    "    \n",
    "    return context"
   ]
  },
  {
   "cell_type": "markdown",
   "metadata": {},
   "source": [
    "**model()**\n",
    "- First,`model()` runs the input X through the pre-attention Bi-LSTM to get $[a^{\\langle 1 \\rangle},a^{\\langle 2 \\rangle}, ..., a^{\\langle T_x \\rangle}]$\n",
    "- Then, `model()` calls `one_step_attention()` $T_y$ times using a `for` loop.  At each iteration of this loop:\n",
    "    - gives the computed context vector $context^{\\langle t \\rangle}$ to the post-attention LSTM.\n",
    "    - runs the output of the post-attention LSTM through a dense layer with softmax activation.\n",
    "    - softmax generates a prediction $\\hat{y}^{\\langle t \\rangle}$. "
   ]
  },
  {
   "cell_type": "code",
   "execution_count": 9,
   "metadata": {},
   "outputs": [],
   "source": [
    "# Define global variables in model()\n",
    "## number of units for the pre-attention Bi-LSTM's hidden state \"a\"\n",
    "n_a = 32\n",
    "\n",
    "## number of units for the post-attention LSTM's hidden state \"s\"\n",
    "n_s = 64\n",
    "\n",
    "## post-attention LSTM cell\n",
    "post_attention_LSTM_cell = tf.keras.layers.LSTM(units=n_s, return_state=True)\n",
    "\n",
    "## output layer\n",
    "output_layer = tf.keras.layers.Dense(units=len(machine_vocab), activation=softmax)"
   ]
  },
  {
   "cell_type": "code",
   "execution_count": 10,
   "metadata": {},
   "outputs": [],
   "source": [
    "def model(Tx, Ty, n_a, n_s, human_vocab_size, machine_vocab_size):\n",
    "    \n",
    "    # Initialization\n",
    "    outputs = []\n",
    "    \n",
    "    # Input layers\n",
    "    X = tf.keras.layers.Input(shape=(Tx, human_vocab_size))\n",
    "    \n",
    "    # Define initial hidden state and initial cell state for post-attention LSTM\n",
    "    s0 = tf.keras.layers.Input(shape=(n_s,), name='s0')\n",
    "    c0 = tf.keras.layers.Input(shape=(n_s,), name='c0')\n",
    "    s = s0\n",
    "    c = c0\n",
    "    \n",
    "    # Define pre-attention Bi-LSTM\n",
    "    a = tf.keras.layers.Bidirectional(tf.keras.layers.LSTM(units=n_a, return_sequences=True))(X)\n",
    "    \n",
    "    # Iterate for Ty steps\n",
    "    for t in range(Ty):\n",
    "        \n",
    "        ## perform one-step attention to get context vector\n",
    "        context = one_step_attention(a, s)\n",
    "        \n",
    "        ## feed context to post-attention LSTM cell\n",
    "        s, _, c = post_attention_LSTM_cell(inputs=context, initial_state=[s, c])\n",
    "        \n",
    "        ## compute output\n",
    "        output = output_layer(inputs=s)\n",
    "        outputs.append(output)\n",
    "    \n",
    "    # Create Model instance\n",
    "    model = tf.keras.Model(inputs=[X, s0, c0], outputs=outputs)\n",
    "    \n",
    "    return model"
   ]
  },
  {
   "cell_type": "markdown",
   "metadata": {},
   "source": [
    "- Build Model"
   ]
  },
  {
   "cell_type": "code",
   "execution_count": 11,
   "metadata": {},
   "outputs": [
    {
     "name": "stdout",
     "output_type": "stream",
     "text": [
      "Model: \"model\"\n",
      "__________________________________________________________________________________________________\n",
      "Layer (type)                    Output Shape         Param #     Connected to                     \n",
      "==================================================================================================\n",
      "input_1 (InputLayer)            [(None, 30, 37)]     0                                            \n",
      "__________________________________________________________________________________________________\n",
      "s0 (InputLayer)                 [(None, 64)]         0                                            \n",
      "__________________________________________________________________________________________________\n",
      "bidirectional (Bidirectional)   (None, 30, 64)       17920       input_1[0][0]                    \n",
      "__________________________________________________________________________________________________\n",
      "repeat_vector (RepeatVector)    (None, 30, 64)       0           s0[0][0]                         \n",
      "                                                                 lstm[0][0]                       \n",
      "                                                                 lstm[1][0]                       \n",
      "                                                                 lstm[2][0]                       \n",
      "                                                                 lstm[3][0]                       \n",
      "                                                                 lstm[4][0]                       \n",
      "                                                                 lstm[5][0]                       \n",
      "                                                                 lstm[6][0]                       \n",
      "                                                                 lstm[7][0]                       \n",
      "                                                                 lstm[8][0]                       \n",
      "__________________________________________________________________________________________________\n",
      "concatenate (Concatenate)       (None, 30, 128)      0           bidirectional[0][0]              \n",
      "                                                                 repeat_vector[0][0]              \n",
      "                                                                 bidirectional[0][0]              \n",
      "                                                                 repeat_vector[1][0]              \n",
      "                                                                 bidirectional[0][0]              \n",
      "                                                                 repeat_vector[2][0]              \n",
      "                                                                 bidirectional[0][0]              \n",
      "                                                                 repeat_vector[3][0]              \n",
      "                                                                 bidirectional[0][0]              \n",
      "                                                                 repeat_vector[4][0]              \n",
      "                                                                 bidirectional[0][0]              \n",
      "                                                                 repeat_vector[5][0]              \n",
      "                                                                 bidirectional[0][0]              \n",
      "                                                                 repeat_vector[6][0]              \n",
      "                                                                 bidirectional[0][0]              \n",
      "                                                                 repeat_vector[7][0]              \n",
      "                                                                 bidirectional[0][0]              \n",
      "                                                                 repeat_vector[8][0]              \n",
      "                                                                 bidirectional[0][0]              \n",
      "                                                                 repeat_vector[9][0]              \n",
      "__________________________________________________________________________________________________\n",
      "dense (Dense)                   (None, 30, 10)       1290        concatenate[0][0]                \n",
      "                                                                 concatenate[1][0]                \n",
      "                                                                 concatenate[2][0]                \n",
      "                                                                 concatenate[3][0]                \n",
      "                                                                 concatenate[4][0]                \n",
      "                                                                 concatenate[5][0]                \n",
      "                                                                 concatenate[6][0]                \n",
      "                                                                 concatenate[7][0]                \n",
      "                                                                 concatenate[8][0]                \n",
      "                                                                 concatenate[9][0]                \n",
      "__________________________________________________________________________________________________\n",
      "dense_1 (Dense)                 (None, 30, 1)        11          dense[0][0]                      \n",
      "                                                                 dense[1][0]                      \n",
      "                                                                 dense[2][0]                      \n",
      "                                                                 dense[3][0]                      \n",
      "                                                                 dense[4][0]                      \n",
      "                                                                 dense[5][0]                      \n",
      "                                                                 dense[6][0]                      \n",
      "                                                                 dense[7][0]                      \n",
      "                                                                 dense[8][0]                      \n",
      "                                                                 dense[9][0]                      \n",
      "__________________________________________________________________________________________________\n",
      "attention_weights (Activation)  (None, 30, 1)        0           dense_1[0][0]                    \n",
      "                                                                 dense_1[1][0]                    \n",
      "                                                                 dense_1[2][0]                    \n",
      "                                                                 dense_1[3][0]                    \n",
      "                                                                 dense_1[4][0]                    \n",
      "                                                                 dense_1[5][0]                    \n",
      "                                                                 dense_1[6][0]                    \n",
      "                                                                 dense_1[7][0]                    \n",
      "                                                                 dense_1[8][0]                    \n",
      "                                                                 dense_1[9][0]                    \n",
      "__________________________________________________________________________________________________\n",
      "dot (Dot)                       (None, 1, 64)        0           attention_weights[0][0]          \n",
      "                                                                 bidirectional[0][0]              \n",
      "                                                                 attention_weights[1][0]          \n",
      "                                                                 bidirectional[0][0]              \n",
      "                                                                 attention_weights[2][0]          \n",
      "                                                                 bidirectional[0][0]              \n",
      "                                                                 attention_weights[3][0]          \n",
      "                                                                 bidirectional[0][0]              \n",
      "                                                                 attention_weights[4][0]          \n",
      "                                                                 bidirectional[0][0]              \n",
      "                                                                 attention_weights[5][0]          \n",
      "                                                                 bidirectional[0][0]              \n",
      "                                                                 attention_weights[6][0]          \n",
      "                                                                 bidirectional[0][0]              \n",
      "                                                                 attention_weights[7][0]          \n",
      "                                                                 bidirectional[0][0]              \n",
      "                                                                 attention_weights[8][0]          \n",
      "                                                                 bidirectional[0][0]              \n",
      "                                                                 attention_weights[9][0]          \n",
      "                                                                 bidirectional[0][0]              \n",
      "__________________________________________________________________________________________________\n",
      "c0 (InputLayer)                 [(None, 64)]         0                                            \n",
      "__________________________________________________________________________________________________\n",
      "lstm (LSTM)                     [(None, 64), (None,  33024       dot[0][0]                        \n",
      "                                                                 s0[0][0]                         \n",
      "                                                                 c0[0][0]                         \n",
      "                                                                 dot[1][0]                        \n",
      "                                                                 lstm[0][0]                       \n",
      "                                                                 lstm[0][2]                       \n",
      "                                                                 dot[2][0]                        \n",
      "                                                                 lstm[1][0]                       \n",
      "                                                                 lstm[1][2]                       \n",
      "                                                                 dot[3][0]                        \n",
      "                                                                 lstm[2][0]                       \n",
      "                                                                 lstm[2][2]                       \n",
      "                                                                 dot[4][0]                        \n",
      "                                                                 lstm[3][0]                       \n",
      "                                                                 lstm[3][2]                       \n",
      "                                                                 dot[5][0]                        \n",
      "                                                                 lstm[4][0]                       \n",
      "                                                                 lstm[4][2]                       \n",
      "                                                                 dot[6][0]                        \n",
      "                                                                 lstm[5][0]                       \n",
      "                                                                 lstm[5][2]                       \n",
      "                                                                 dot[7][0]                        \n",
      "                                                                 lstm[6][0]                       \n",
      "                                                                 lstm[6][2]                       \n",
      "                                                                 dot[8][0]                        \n",
      "                                                                 lstm[7][0]                       \n",
      "                                                                 lstm[7][2]                       \n",
      "                                                                 dot[9][0]                        \n",
      "                                                                 lstm[8][0]                       \n",
      "                                                                 lstm[8][2]                       \n",
      "__________________________________________________________________________________________________\n",
      "dense_2 (Dense)                 (None, 11)           715         lstm[0][0]                       \n",
      "                                                                 lstm[1][0]                       \n",
      "                                                                 lstm[2][0]                       \n",
      "                                                                 lstm[3][0]                       \n",
      "                                                                 lstm[4][0]                       \n",
      "                                                                 lstm[5][0]                       \n",
      "                                                                 lstm[6][0]                       \n",
      "                                                                 lstm[7][0]                       \n",
      "                                                                 lstm[8][0]                       \n",
      "                                                                 lstm[9][0]                       \n",
      "==================================================================================================\n",
      "Total params: 52,960\n",
      "Trainable params: 52,960\n",
      "Non-trainable params: 0\n",
      "__________________________________________________________________________________________________\n"
     ]
    }
   ],
   "source": [
    "nmt_model = model(Tx, Ty, n_a, n_s, len(human_vocab), len(machine_vocab))\n",
    "nmt_model.summary()"
   ]
  },
  {
   "cell_type": "code",
   "execution_count": 12,
   "metadata": {},
   "outputs": [],
   "source": [
    "optmizer = tf.keras.optimizers.Adam(lr=0.005, beta_1=0.9, beta_2=0.999, decay=0.01)\n",
    "nmt_model.compile(optimizer=optmizer, loss='categorical_crossentropy', metrics=['accuracy'])"
   ]
  },
  {
   "cell_type": "markdown",
   "metadata": {},
   "source": [
    "- Train"
   ]
  },
  {
   "cell_type": "code",
   "execution_count": 13,
   "metadata": {},
   "outputs": [],
   "source": [
    "# Initialize the inputs\n",
    "s0 = np.zeros((m, n_s))\n",
    "c0 = np.zeros((m, n_s))\n",
    "\n",
    "# Swap the axis 0 and 1 in Y: in model(), need the outputs to be a list of Ty elemnts of shape (m, machine_vocab_size)\n",
    "y_1h_ = list(y_1h.swapaxes(0,1))"
   ]
  },
  {
   "cell_type": "code",
   "execution_count": 14,
   "metadata": {},
   "outputs": [
    {
     "name": "stdout",
     "output_type": "stream",
     "text": [
      "Train on 10000 samples\n",
      "10000/10000 [==============================] - 17s 2ms/sample - loss: 17.2047 - dense_2_loss: 1.2642 - dense_2_1_loss: 1.0316 - dense_2_2_loss: 1.7153 - dense_2_3_loss: 2.7467 - dense_2_4_loss: 0.9027 - dense_2_5_loss: 1.3391 - dense_2_6_loss: 2.7086 - dense_2_7_loss: 1.1315 - dense_2_8_loss: 1.7354 - dense_2_9_loss: 2.6296 - dense_2_accuracy: 0.4696 - dense_2_1_accuracy: 0.7044 - dense_2_2_accuracy: 0.3246 - dense_2_3_accuracy: 0.0848 - dense_2_4_accuracy: 0.8561 - dense_2_5_accuracy: 0.3067 - dense_2_6_accuracy: 0.0647 - dense_2_7_accuracy: 0.7932 - dense_2_8_accuracy: 0.2756 - dense_2_9_accuracy: 0.1147\n"
     ]
    },
    {
     "data": {
      "text/plain": [
       "<tensorflow.python.keras.callbacks.History at 0x7fd8c540cd68>"
      ]
     },
     "execution_count": 14,
     "metadata": {},
     "output_type": "execute_result"
    }
   ],
   "source": [
    "nmt_model.fit([X_1h, s0, c0], y_1h_, epochs=1, batch_size=100)"
   ]
  },
  {
   "cell_type": "markdown",
   "metadata": {},
   "source": [
    "- Load pre-trained weights"
   ]
  },
  {
   "cell_type": "code",
   "execution_count": 15,
   "metadata": {},
   "outputs": [],
   "source": [
    "nmt_model.load_weights('./nmt_model.h5')"
   ]
  },
  {
   "cell_type": "markdown",
   "metadata": {},
   "source": [
    "- Examine"
   ]
  },
  {
   "cell_type": "code",
   "execution_count": 16,
   "metadata": {},
   "outputs": [
    {
     "name": "stdout",
     "output_type": "stream",
     "text": [
      "source: 3 May 1979\n",
      "output: 1979-05-33 \n",
      "\n",
      "source: 5 April 09\n",
      "output: 2009-04-05 \n",
      "\n",
      "source: 21th of August 2016\n",
      "output: 2016-08-20 \n",
      "\n",
      "source: Tue 10 Jul 2007\n",
      "output: 2007-07-10 \n",
      "\n",
      "source: Saturday May 9 2018\n",
      "output: 2018-05-09 \n",
      "\n",
      "source: March 3 2001\n",
      "output: 2001-03-03 \n",
      "\n",
      "source: March 3rd 2001\n",
      "output: 2001-03-03 \n",
      "\n",
      "source: 1 March 2001\n",
      "output: 2001-03-01 \n",
      "\n"
     ]
    }
   ],
   "source": [
    "EXAMPLES = ['3 May 1979', '5 April 09', '21th of August 2016', 'Tue 10 Jul 2007', 'Saturday May 9 2018', 'March 3 2001', 'March 3rd 2001', '1 March 2001']\n",
    "for example in EXAMPLES:\n",
    "    \n",
    "    source = np.array([str_to_int(example, Tx, human_vocab)])\n",
    "    source = np.array(list(map(lambda x: tf.keras.utils.to_categorical(x, num_classes=len(human_vocab)), source)))\n",
    "    prediction = nmt_model.predict(x=[source, np.zeros((1, n_s)), np.zeros((1, n_s))])\n",
    "    prediction = np.argmax(prediction, axis = -1)\n",
    "    output = [inv_machine_vocab[int(i)] for i in prediction]\n",
    "    \n",
    "    print(\"source:\", example)\n",
    "    print(\"output:\", ''.join(output),\"\\n\")"
   ]
  },
  {
   "cell_type": "markdown",
   "metadata": {},
   "source": [
    "- Visualization"
   ]
  },
  {
   "cell_type": "code",
   "execution_count": 17,
   "metadata": {},
   "outputs": [
    {
     "data": {
      "text/plain": [
       "<Figure size 432x288 with 0 Axes>"
      ]
     },
     "metadata": {},
     "output_type": "display_data"
    },
    {
     "data": {
      "image/png": "[encoded data removed]",
      "text/plain": [
       "<Figure size 576x612 with 2 Axes>"
      ]
     },
     "metadata": {
      "needs_background": "light"
     },
     "output_type": "display_data"
    }
   ],
   "source": [
    "attention_map = plot_attention_map(nmt_model, human_vocab, inv_machine_vocab, \"Tuesday 09 Oct 1993\", num = 7, n_s = 64)"
   ]
  }
 ],
 "metadata": {
  "kernelspec": {
   "display_name": "Python 3",
   "language": "python",
   "name": "python3"
  },
  "language_info": {
   "codemirror_mode": {
    "name": "ipython",
    "version": 3
   },
   "file_extension": ".py",
   "mimetype": "text/x-python",
   "name": "python",
   "nbconvert_exporter": "python",
   "pygments_lexer": "ipython3",
   "version": "3.7.3"
  }
 },
 "nbformat": 4,
 "nbformat_minor": 2
}
